{
 "cells": [
  {
   "cell_type": "code",
   "execution_count": 1,
   "metadata": {},
   "outputs": [],
   "source": [
    "import glob\n",
    "\n",
    "import pandas as pd\n",
    "import matplotlib.pyplot as plt\n",
    "import numpy as np\n",
    "from matplotlib.markers import CARETLEFTBASE, CARETRIGHTBASE\n",
    "from csv_dtypes import column_dtypes\n",
    "\n",
    "from sklearn.preprocessing import StandardScaler\n",
    "from sklearn.metrics import confusion_matrix\n",
    "from sklearn.metrics import classification_report\n",
    "from sklearn import svm, linear_model"
   ]
  },
  {
   "cell_type": "code",
   "execution_count": 2,
   "metadata": {},
   "outputs": [
    {
     "data": {
      "text/plain": [
       "70505"
      ]
     },
     "execution_count": 2,
     "metadata": {},
     "output_type": "execute_result"
    }
   ],
   "source": [
    "all_files = glob.glob(\"../roll_data/*-modproc.csv\")\n",
    "\n",
    "df = pd.concat((pd.read_csv(f, dtype=column_dtypes) for f in all_files), ignore_index=True)\n",
    "\n",
    "seasons = [15]\n",
    "df = df[df['season'].isin(seasons)]\n",
    "len(df)"
   ]
  },
  {
   "cell_type": "code",
   "execution_count": 16,
   "metadata": {},
   "outputs": [],
   "source": [
    "dfc = df.copy()\n",
    "for exclude_mod in []:\n",
    "    dfc = dfc[~dfc[\"batter_mods\"].astype(str).str.contains(exclude_mod)]\n",
    "    dfc = dfc[~dfc[\"pitcher_mods\"].astype(str).str.contains(exclude_mod)]\n",
    "    dfc = dfc[~dfc[\"pitching_team_mods\"].astype(str).str.contains(exclude_mod)]\n",
    "    dfc = dfc[~dfc[\"batting_team_mods\"].astype(str).str.contains(exclude_mod)]\n",
    "    dfc = dfc[~dfc[\"fielder_mods\"].astype(str).str.contains(exclude_mod)]\n",
    "\n",
    "\n",
    "#Shows Haunted Proc\n",
    "#for exclude_event in [\"Bonk\", \"No Bonk\", \"Ambushed\", \"NoBush\", \"Charmed\", \"NoCharm\", \"Zap\", \"NoZap\", \"Mild\", \"NoMild\", \"Walk\", \"Balk\", \"Second\", \"Third\", \"Bucket\", \"NoBucket\", \"shelled1\", \"no shell1\", \"shelled2\", \"no shell2\", \"copy\", \"nocopy\", \"cure\", \"nocure\", \"Grind\", \"NoGrind\",]:\n",
    "    #dfc = dfc[~dfc[\"event_type\"].astype(str).str.contains(exclude_event)]\n",
    "\n",
    "#Shows Electric Proc\n",
    "#for exclude_event in [\"Bonk\", \"No Bonk\", \" Ambushed\", \"NoBush\", \"Charmed\", \"NoCharm\", \"NoHaunt\", \"YesHaunt\", \"Mild\", \"NoMild\", \"Walk\", \"Balk\", \"Second\", \"Third\", \"Bucket\", \"NoBucket\", \"shelled1\", \"no shell1\", \"shelled2\", \"no shell2\", \"copy\", \"nocopy\", \"cure\", \"nocure\", \"Grind\", \"NoGrind\",]:\n",
    "    #dfc = dfc[~dfc[\"event_type\"].astype(str).str.contains(exclude_event)]\n",
    "\n",
    "#Shows Peanut Mister Proc\n",
    "#for exclude_event in [\"Bonk\", \"No Bonk\", \"Ambushed\", \"NoBush\", \"Charmed\", \"NoCharm\", \"Zap\", \"NoZap\", \"Mild\", \"NoMild\", \"Walk\", \"Balk\", \"Second\", \"Third\", \"Bucket\", \"NoBucket\", \"shelled1\", \"no shell1\", \"shelled2\", \"no shell2\", \"copy\", \"nocopy\", \"NoHaunt\", \"YesHaunt\", \"Grind\", \"NoGrind\",]:\n",
    "    #dfc = dfc[~dfc[\"event_type\"].astype(str).str.contains(exclude_event)]\n",
    "\n",
    "#Shows Grind Rail Proc\n",
    "for exclude_event in [\"Bonk\", \"No Bonk\", \"Ambushed\", \"NoBush\", \"Charmed\", \"NoCharm\", \"Zap\", \"NoZap\", \"Mild\", \"NoMild\", \"Walk\", \"Balk\", \"Second\", \"Third\", \"Bucket\", \"NoBucket\", \"shelled1\", \"no shell1\", \"shelled2\", \"no shell2\", \"copy\", \"nocopy\", \"cure\", \"nocure\", \"NoHaunt\", \"YesHaunt\"]:\n",
    "    dfc = dfc[~dfc[\"event_type\"].astype(str).str.contains(exclude_event)]\n",
    "\n",
    "#Shows Mild Proc\n",
    "#for exclude_event in [\"Bonk\", \"No Bonk\", \"Ambushed\", \"NoBush\", \"Charmed\", \"NoCharm\", \"Zap\", \"NoZap\", \"NoHaunt\", \"YesHaunt\", \"Walk\", \"Balk\", \"Second\", \"Third\", \"Bucket\", \"NoBucket\", \"shelled1\", \"no shell1\", \"shelled2\", \"no shell2\", \"copy\", \"nocopy\", \"cure\", \"nocure\", \"Grind\", \"NoGrind\",]:\n",
    "    #dfc = dfc[~dfc[\"event_type\"].astype(str).str.contains(exclude_event)]\n",
    "\n",
    "#Shows Taste the Infinite (Batter) Proc\n",
    "#for exclude_event in [\"Bonk\", \"No Bonk\", \"Ambushed\", \"NoBush\", \"Charmed\", \"NoCharm\", \"Zap\", \"NoZap\", \"Mild\", \"NoMild\", \"Walk\", \"Balk\", \"Second\", \"Third\", \"Bucket\", \"NoBucket\", \"NoHaunt\", \"YesHaunt\", \"shelled2\", \"no shell2\", \"copy\", \"nocopy\", \"cure\", \"nocure\", \"Grind\", \"NoGrind\",]:\n",
    "    #dfc = dfc[~dfc[\"event_type\"].astype(str).str.contains(exclude_event)]\n",
    "\n",
    "#Shows Taste the Infinite (Pitcher) Proc\n",
    "#for exclude_event in [\"Bonk\", \"No Bonk\", \"Ambushed\", \"NoBush\", \"Charmed\", \"NoCharm\", \"Zap\", \"NoZap\", \"Mild\", \"NoMild\", \"Walk\", \"Balk\", \"Second\", \"Third\", \"Bucket\", \"NoBucket\", \"shelled1\", \"no shell1\", \"NoHaunt\", \"YesHaunt\", \"copy\", \"nocopy\", \"cure\", \"nocure\", \"Grind\", \"NoGrind\",]:\n",
    "    #dfc = dfc[~dfc[\"event_type\"].astype(str).str.contains(exclude_event)]\n",
    "\n",
    "#Shows Debt Proc\n",
    "#for exclude_event in [\"NoHaunt\", \"YesHaunt\", \"Ambushed\", \"NoBush\", \"Charmed\", \"NoCharm\", \"Zap\", \"NoZap\", \"Mild\", \"NoMild\", \"Walk\", \"Balk\", \"Second\", \"Third\", \"Bucket\", \"NoBucket\", \"shelled1\", \"no shell1\", \"shelled2\", \"no shell2\", \"copy\", \"nocopy\", \"cure\", \"nocure\", \"Grind\", \"NoGrind\",]:\n",
    "    #dfc = dfc[~dfc[\"event_type\"].astype(str).str.contains(exclude_event)]\n",
    "\n",
    "#Shows Birds Ambush Proc\n",
    "#for exclude_event in [\"Bonk\", \"No Bonk\", \"NoHaunt\", \"YesHaunt\", \"Charmed\", \"NoCharm\", \"Zap\", \"NoZap\", \"Mild\", \"NoMild\", \"Walk\", \"Balk\", \"Second\", \"Third\", \"Bucket\", \"NoBucket\", \"shelled1\", \"no shell1\", \"shelled2\", \"no shell2\", \"copy\", \"nocopy\", \"cure\", \"nocure\", \"Grind\", \"NoGrind\",]:\n",
    "    #dfc = dfc[~dfc[\"event_type\"].astype(str).str.contains(exclude_event)]\n",
    "\n",
    "#Shows Charm Proc\n",
    "#for exclude_event in [\"Bonk\", \"No Bonk\", \"Ambushed\", \"NoBush\", \"NoHaunt\", \"YesHaunt\", \"Zap\", \"NoZap\", \"Mild\", \"NoMild\", \"Walk\", \"Balk\", \"Second\", \"Third\", \"Bucket\", \"NoBucket\", \"shelled1\", \"no shell1\", \"shelled2\", \"no shell2\", \"copy\", \"nocopy\", \"cure\", \"nocure\", \"Grind\", \"NoGrind\",]:\n",
    "    #dfc = dfc[~dfc[\"event_type\"].astype(str).str.contains(exclude_event)]\n",
    "\n",
    "#Shows Base Instincts Proc\n",
    "#for exclude_event in [\"Bonk\", \"No Bonk\", \"Ambushed\", \"NoBush\", \"Charmed\", \"NoCharm\", \"Zap\", \"NoZap\", \"Mild\", \"NoMild\", \"NoHaunt\", \"YesHaunt\", \"Second\", \"Third\", \"Bucket\", \"NoBucket\", \"shelled1\", \"no shell1\", \"shelled2\", \"no shell2\", \"copy\", \"nocopy\", \"cure\", \"nocure\", \"Grind\", \"NoGrind\",]:\n",
    "    #dfc = dfc[~dfc[\"event_type\"].astype(str).str.contains(exclude_event)]\n",
    "\n",
    "#Shows Base Instincts Which Base Proc\n",
    "#for exclude_event in [\"Bonk\", \"No Bonk\", \"Ambushed\", \"NoBush\", \"Charmed\", \"NoCharm\", \"Zap\", \"NoZap\", \"Mild\", \"NoMild\", \"Walk\", \"Balk\", \"NoHaunt\", \"YesHaunt\", \"Bucket\", \"NoBucket\", \"shelled1\", \"no shell1\", \"shelled2\", \"no shell2\", \"copy\", \"nocopy\", \"cure\", \"nocure\", \"Grind\", \"NoGrind\",]:\n",
    "    #dfc = dfc[~dfc[\"event_type\"].astype(str).str.contains(exclude_event)]\n",
    "\n",
    "#Shows Echo Chamber Proc\n",
    "#for exclude_event in [\"Bonk\", \"No Bonk\", \"Ambushed\", \"NoBush\", \"Charmed\", \"NoCharm\", \"Zap\", \"NoZap\", \"Mild\", \"NoMild\", \"Walk\", \"Balk\", \"Second\", \"Third\", \"Bucket\", \"NoBucket\", \"shelled1\", \"no shell1\", \"shelled2\", \"no shell2\", \"NoHaunt\", \"YesHaunt\", \"cure\", \"nocure\", \"Grind\", \"NoGrind\",]:\n",
    "    #dfc = dfc[~dfc[\"event_type\"].astype(str).str.contains(exclude_event)]\n",
    "\n",
    "#Shows Big Buckets Proc\n",
    "#for exclude_event in [\"Bonk\", \"No Bonk\", \"Ambushed\", \"NoBush\", \"Charmed\", \"NoCharm\", \"Zap\", \"NoZap\", \"Mild\", \"NoMild\", \"Walk\", \"Balk\", \"Second\", \"Third\", \"NoHaunt\", \"YesHaunt\", \"shelled1\", \"no shell1\", \"shelled2\", \"no shell2\", \"copy\", \"nocopy\", \"cure\", \"nocure\", \"Grind\", \"NoGrind\",]:\n",
    "    #dfc = dfc[~dfc[\"event_type\"].astype(str).str.contains(exclude_event)]"
   ]
  },
  {
   "cell_type": "code",
   "execution_count": 36,
   "metadata": {},
   "outputs": [
    {
     "data": {
      "text/plain": [
       "array([[50748,     0],\n",
       "       [  370,     0]], dtype=int64)"
      ]
     },
     "execution_count": 36,
     "metadata": {},
     "output_type": "execute_result"
    }
   ],
   "source": [
    "from sklearn.preprocessing import StandardScaler\n",
    "from sklearn.metrics import confusion_matrix\n",
    "from sklearn.metrics import classification_report\n",
    "from sklearn import svm, linear_model\n",
    "\n",
    "\n",
    "X = dfc[[\"roll\"]]\n",
    "y = dfc['passed']\n",
    "\n",
    "sc = StandardScaler()\n",
    "X2 = sc.fit_transform(X)\n",
    "\n",
    "trainedsvm = svm.LinearSVC(dual=False, C=500000, max_iter=5000000, tol=1e-5).fit(X2, y)\n",
    "predictionsvm = trainedsvm.predict(X2)\n",
    "confusion_matrix(y,predictionsvm)"
   ]
  },
  {
   "cell_type": "code",
   "execution_count": 37,
   "metadata": {},
   "outputs": [
    {
     "data": {
      "text/plain": [
       "[(1.0, 'roll'), (-0.0, 'runner_laserlikeness')]"
      ]
     },
     "execution_count": 37,
     "metadata": {},
     "output_type": "execute_result"
    }
   ],
   "source": [
    "coef = np.true_divide(trainedsvm.coef_, sc.scale_)\n",
    "coef_scaled = coef / coef[0, 0]\n",
    "coef_list = coef_scaled.tolist()[0]\n",
    "sorted(zip(coef_list, X.columns), key=lambda x: abs(x[0]), reverse=True)"
   ]
  },
  {
   "cell_type": "code",
   "execution_count": 38,
   "metadata": {},
   "outputs": [
    {
     "data": {
      "text/plain": [
       "array([0.06676394])"
      ]
     },
     "execution_count": 38,
     "metadata": {},
     "output_type": "execute_result"
    }
   ],
   "source": [
    "intercept = trainedsvm.intercept_ - np.dot(coef, sc.mean_)\n",
    "intercept_scaled = intercept / coef[0, 0]\n",
    "intercept_scaled"
   ]
  },
  {
   "cell_type": "code",
   "execution_count": 23,
   "metadata": {},
   "outputs": [
    {
     "name": "stdout",
     "output_type": "stream",
     "text": [
      "50748\n",
      "370\n"
     ]
    }
   ],
   "source": [
    "print(len(dfc[~dfc[\"passed\"]]))\n",
    "print(len(dfc[dfc[\"passed\"]]))"
   ]
  },
  {
   "cell_type": "code",
   "execution_count": 24,
   "metadata": {},
   "outputs": [],
   "source": [
    "\n",
    "dfc[\"threshold\"] = 0.026"
   ]
  },
  {
   "cell_type": "code",
   "execution_count": 40,
   "metadata": {},
   "outputs": [
    {
     "data": {
      "text/plain": [
       "<matplotlib.legend.Legend at 0x1ca62219460>"
      ]
     },
     "execution_count": 40,
     "metadata": {},
     "output_type": "execute_result"
    },
    {
     "data": {
      "image/png": "[encoded data removed]",
      "text/plain": [
       "<Figure size 720x432 with 1 Axes>"
      ]
     },
     "metadata": {
      "needs_background": "light"
     },
     "output_type": "display_data"
    }
   ],
   "source": [
    "x_val = \"threshold\"\n",
    "fig, ax = plt.subplots(1, figsize=(10, 6))\n",
    "ax.scatter(dfc[dfc['passed']][x_val], dfc[dfc['passed']][\"roll\"], color=\"blue\",\n",
    "           label=\"Activate\", marker=CARETLEFTBASE)\n",
    "ax.scatter(dfc[~dfc['passed']][x_val], dfc[~dfc['passed']][\"roll\"], color=\"red\",\n",
    "           label=\"NoActivate\", marker=CARETRIGHTBASE)\n",
    "ax.plot([0, 1], [0, 1])\n",
    "ax.set_xlabel(x_val)\n",
    "ax.set_ylabel('roll')\n",
    "ax.set_title(\"Weather Procs\")\n",
    "ax.set_xlim([0.024, 0.028])\n",
    "ax.set_ylim([0.02, 0.5])\n",
    "ax.legend()"
   ]
  },
  {
   "cell_type": "code",
   "execution_count": 28,
   "metadata": {},
   "outputs": [
    {
     "data": {
      "text/html": [
       "<div>\n",
       "<style scoped>\n",
       "    .dataframe tbody tr th:only-of-type {\n",
       "        vertical-align: middle;\n",
       "    }\n",
       "\n",
       "    .dataframe tbody tr th {\n",
       "        vertical-align: top;\n",
       "    }\n",
       "\n",
       "    .dataframe thead th {\n",
       "        text-align: right;\n",
       "    }\n",
       "</style>\n",
       "<table border=\"1\" class=\"dataframe\">\n",
       "  <thead>\n",
       "    <tr style=\"text-align: right;\">\n",
       "      <th></th>\n",
       "      <th>offset</th>\n",
       "      <th>weather</th>\n",
       "      <th>event_type</th>\n",
       "      <th>season</th>\n",
       "      <th>roll</th>\n",
       "      <th>threshold</th>\n",
       "      <th>batter_name</th>\n",
       "      <th>pitcher_name</th>\n",
       "      <th>batter_mods</th>\n",
       "      <th>pitcher_mods</th>\n",
       "      <th>batting_team_mods</th>\n",
       "      <th>pitching_team_mods</th>\n",
       "      <th>day</th>\n",
       "      <th>game_id</th>\n",
       "      <th>play_count</th>\n",
       "    </tr>\n",
       "  </thead>\n",
       "  <tbody>\n",
       "    <tr>\n",
       "      <th>296102</th>\n",
       "      <td>-0.025940</td>\n",
       "      <td>Weather.FLOODING</td>\n",
       "      <td>NoCure</td>\n",
       "      <td>15</td>\n",
       "      <td>0.000060</td>\n",
       "      <td>0.026</td>\n",
       "      <td>Alston Cerveza</td>\n",
       "      <td>Coolname Galvanic</td>\n",
       "      <td>&lt;NA&gt;</td>\n",
       "      <td>&lt;NA&gt;</td>\n",
       "      <td>H20;HIGH_PRESSURE</td>\n",
       "      <td>POPCORN_PAYOUTS</td>\n",
       "      <td>82</td>\n",
       "      <td>bb91c04e-b44e-4df4-918f-6d446efefc6b</td>\n",
       "      <td>213</td>\n",
       "    </tr>\n",
       "    <tr>\n",
       "      <th>294568</th>\n",
       "      <td>-0.025750</td>\n",
       "      <td>Weather.SALMON</td>\n",
       "      <td>NoCure</td>\n",
       "      <td>15</td>\n",
       "      <td>0.000250</td>\n",
       "      <td>0.026</td>\n",
       "      <td>Collins Melon</td>\n",
       "      <td>Fenry Marlow</td>\n",
       "      <td>&lt;NA&gt;</td>\n",
       "      <td>TRIPLE_THREAT</td>\n",
       "      <td>&lt;NA&gt;</td>\n",
       "      <td>SINKING_SHIP</td>\n",
       "      <td>81</td>\n",
       "      <td>6097899c-bb1e-4389-99e1-25edd0291e6f</td>\n",
       "      <td>223</td>\n",
       "    </tr>\n",
       "    <tr>\n",
       "      <th>246678</th>\n",
       "      <td>-0.025696</td>\n",
       "      <td>Weather.ECLIPSE</td>\n",
       "      <td>NoCure</td>\n",
       "      <td>15</td>\n",
       "      <td>0.000304</td>\n",
       "      <td>0.026</td>\n",
       "      <td>Nandy Fantastic</td>\n",
       "      <td>Adalberto Tosser</td>\n",
       "      <td>FIRST_BORN;MINIMALIST</td>\n",
       "      <td>CREDIT_TO_THE_TEAM;WILD</td>\n",
       "      <td>BIRD_SEED</td>\n",
       "      <td>0;UNHOLEY;CARCINIZATION</td>\n",
       "      <td>38</td>\n",
       "      <td>97c18fdd-6a8a-4e8c-9640-aa690c3e0276</td>\n",
       "      <td>25</td>\n",
       "    </tr>\n",
       "    <tr>\n",
       "      <th>275903</th>\n",
       "      <td>-0.025485</td>\n",
       "      <td>Weather.COFFEE</td>\n",
       "      <td>NoCure</td>\n",
       "      <td>15</td>\n",
       "      <td>0.000515</td>\n",
       "      <td>0.026</td>\n",
       "      <td>York Silk</td>\n",
       "      <td>Parker Parra</td>\n",
       "      <td>DEBT_THREE;EGO3;RETURNED;HONEY_ROASTED;DOUBLE_...</td>\n",
       "      <td>FLINCH</td>\n",
       "      <td>H20;HIGH_PRESSURE</td>\n",
       "      <td>CARCINIZATION;0;UNHOLEY</td>\n",
       "      <td>64</td>\n",
       "      <td>33d748a6-3da4-4fbd-803f-31458cf0da0d</td>\n",
       "      <td>234</td>\n",
       "    </tr>\n",
       "    <tr>\n",
       "      <th>296775</th>\n",
       "      <td>-0.025477</td>\n",
       "      <td>Weather.BLACK_HOLE</td>\n",
       "      <td>NoCure</td>\n",
       "      <td>15</td>\n",
       "      <td>0.000523</td>\n",
       "      <td>0.026</td>\n",
       "      <td>Avila Guzman</td>\n",
       "      <td>Castillo Turner</td>\n",
       "      <td>&lt;NA&gt;</td>\n",
       "      <td>&lt;NA&gt;</td>\n",
       "      <td>MIDDLING</td>\n",
       "      <td>GROWTH</td>\n",
       "      <td>83</td>\n",
       "      <td>ffb01670-1fea-47cd-bdb2-bb344032d045</td>\n",
       "      <td>48</td>\n",
       "    </tr>\n",
       "    <tr>\n",
       "      <th>...</th>\n",
       "      <td>...</td>\n",
       "      <td>...</td>\n",
       "      <td>...</td>\n",
       "      <td>...</td>\n",
       "      <td>...</td>\n",
       "      <td>...</td>\n",
       "      <td>...</td>\n",
       "      <td>...</td>\n",
       "      <td>...</td>\n",
       "      <td>...</td>\n",
       "      <td>...</td>\n",
       "      <td>...</td>\n",
       "      <td>...</td>\n",
       "      <td>...</td>\n",
       "      <td>...</td>\n",
       "    </tr>\n",
       "    <tr>\n",
       "      <th>279378</th>\n",
       "      <td>0.036380</td>\n",
       "      <td>Weather.SUN_2</td>\n",
       "      <td>Grind</td>\n",
       "      <td>15</td>\n",
       "      <td>0.062380</td>\n",
       "      <td>0.026</td>\n",
       "      <td>Stew Briggs</td>\n",
       "      <td>Patty Fox</td>\n",
       "      <td>REPEATING;WANDERER</td>\n",
       "      <td>&lt;NA&gt;</td>\n",
       "      <td>TRAVELING</td>\n",
       "      <td>BIRD_SEED</td>\n",
       "      <td>67</td>\n",
       "      <td>84d8fcf3-d3d7-45db-a219-5b53d46e7842</td>\n",
       "      <td>74</td>\n",
       "    </tr>\n",
       "    <tr>\n",
       "      <th>300497</th>\n",
       "      <td>0.037439</td>\n",
       "      <td>Weather.ECLIPSE</td>\n",
       "      <td>Grind</td>\n",
       "      <td>15</td>\n",
       "      <td>0.063439</td>\n",
       "      <td>0.026</td>\n",
       "      <td>Richardson Games</td>\n",
       "      <td>Sosa Hayes</td>\n",
       "      <td>SIPHON;FLINCH</td>\n",
       "      <td>&lt;NA&gt;</td>\n",
       "      <td>TRAVELING</td>\n",
       "      <td>MIDDLING</td>\n",
       "      <td>86</td>\n",
       "      <td>af539fd5-8dca-4c73-9692-5a5625e08cc6</td>\n",
       "      <td>101</td>\n",
       "    </tr>\n",
       "    <tr>\n",
       "      <th>281957</th>\n",
       "      <td>0.038744</td>\n",
       "      <td>Weather.COFFEE_2</td>\n",
       "      <td>Grind</td>\n",
       "      <td>15</td>\n",
       "      <td>0.064744</td>\n",
       "      <td>0.026</td>\n",
       "      <td>Usurper Violet</td>\n",
       "      <td>Chorby Soul</td>\n",
       "      <td>&lt;NA&gt;</td>\n",
       "      <td>RETURNED;MARKED;TRIPLE_THREAT;EGO1</td>\n",
       "      <td>AFFINITY_FOR_CROWS</td>\n",
       "      <td>BIRD_SEED</td>\n",
       "      <td>69</td>\n",
       "      <td>d158232a-3881-400e-ba9b-8304171bd02e</td>\n",
       "      <td>166</td>\n",
       "    </tr>\n",
       "    <tr>\n",
       "      <th>268674</th>\n",
       "      <td>0.044277</td>\n",
       "      <td>Weather.FLOODING</td>\n",
       "      <td>Grind</td>\n",
       "      <td>15</td>\n",
       "      <td>0.070277</td>\n",
       "      <td>0.026</td>\n",
       "      <td>Pitching Machine</td>\n",
       "      <td>Alaynabella Hollywood</td>\n",
       "      <td>HONEY_ROASTED;UNCERTAIN;EGO2</td>\n",
       "      <td>&lt;NA&gt;</td>\n",
       "      <td>BLACKHOLE_PAYOUTS;BOTTOM_DWELLER</td>\n",
       "      <td>LIFE_OF_PARTY</td>\n",
       "      <td>58</td>\n",
       "      <td>6a8deef8-2dbb-4f40-b3e5-e142a39db75b</td>\n",
       "      <td>218</td>\n",
       "    </tr>\n",
       "    <tr>\n",
       "      <th>305914</th>\n",
       "      <td>0.047627</td>\n",
       "      <td>Weather.PEANUTS</td>\n",
       "      <td>Grind</td>\n",
       "      <td>15</td>\n",
       "      <td>0.073627</td>\n",
       "      <td>0.026</td>\n",
       "      <td>Huber Frumple</td>\n",
       "      <td>Montgomery Bullock</td>\n",
       "      <td>&lt;NA&gt;</td>\n",
       "      <td>WILD;FRIEND_OF_CROWS</td>\n",
       "      <td>AFFINITY_FOR_CROWS</td>\n",
       "      <td>SINKING_SHIP</td>\n",
       "      <td>90</td>\n",
       "      <td>b0df70c8-b54b-4956-a112-18d0e2f63011</td>\n",
       "      <td>12</td>\n",
       "    </tr>\n",
       "  </tbody>\n",
       "</table>\n",
       "<p>1174 rows × 15 columns</p>\n",
       "</div>"
      ],
      "text/plain": [
       "          offset             weather event_type  season      roll  threshold  \\\n",
       "296102 -0.025940    Weather.FLOODING     NoCure      15  0.000060      0.026   \n",
       "294568 -0.025750      Weather.SALMON     NoCure      15  0.000250      0.026   \n",
       "246678 -0.025696     Weather.ECLIPSE     NoCure      15  0.000304      0.026   \n",
       "275903 -0.025485      Weather.COFFEE     NoCure      15  0.000515      0.026   \n",
       "296775 -0.025477  Weather.BLACK_HOLE     NoCure      15  0.000523      0.026   \n",
       "...          ...                 ...        ...     ...       ...        ...   \n",
       "279378  0.036380       Weather.SUN_2      Grind      15  0.062380      0.026   \n",
       "300497  0.037439     Weather.ECLIPSE      Grind      15  0.063439      0.026   \n",
       "281957  0.038744    Weather.COFFEE_2      Grind      15  0.064744      0.026   \n",
       "268674  0.044277    Weather.FLOODING      Grind      15  0.070277      0.026   \n",
       "305914  0.047627     Weather.PEANUTS      Grind      15  0.073627      0.026   \n",
       "\n",
       "             batter_name           pitcher_name  \\\n",
       "296102    Alston Cerveza      Coolname Galvanic   \n",
       "294568     Collins Melon           Fenry Marlow   \n",
       "246678   Nandy Fantastic       Adalberto Tosser   \n",
       "275903         York Silk           Parker Parra   \n",
       "296775      Avila Guzman        Castillo Turner   \n",
       "...                  ...                    ...   \n",
       "279378       Stew Briggs              Patty Fox   \n",
       "300497  Richardson Games             Sosa Hayes   \n",
       "281957    Usurper Violet            Chorby Soul   \n",
       "268674  Pitching Machine  Alaynabella Hollywood   \n",
       "305914     Huber Frumple     Montgomery Bullock   \n",
       "\n",
       "                                              batter_mods  \\\n",
       "296102                                               <NA>   \n",
       "294568                                               <NA>   \n",
       "246678                              FIRST_BORN;MINIMALIST   \n",
       "275903  DEBT_THREE;EGO3;RETURNED;HONEY_ROASTED;DOUBLE_...   \n",
       "296775                                               <NA>   \n",
       "...                                                   ...   \n",
       "279378                                 REPEATING;WANDERER   \n",
       "300497                                      SIPHON;FLINCH   \n",
       "281957                                               <NA>   \n",
       "268674                       HONEY_ROASTED;UNCERTAIN;EGO2   \n",
       "305914                                               <NA>   \n",
       "\n",
       "                              pitcher_mods                 batting_team_mods  \\\n",
       "296102                                <NA>                 H20;HIGH_PRESSURE   \n",
       "294568                       TRIPLE_THREAT                              <NA>   \n",
       "246678             CREDIT_TO_THE_TEAM;WILD                         BIRD_SEED   \n",
       "275903                              FLINCH                 H20;HIGH_PRESSURE   \n",
       "296775                                <NA>                          MIDDLING   \n",
       "...                                    ...                               ...   \n",
       "279378                                <NA>                         TRAVELING   \n",
       "300497                                <NA>                         TRAVELING   \n",
       "281957  RETURNED;MARKED;TRIPLE_THREAT;EGO1                AFFINITY_FOR_CROWS   \n",
       "268674                                <NA>  BLACKHOLE_PAYOUTS;BOTTOM_DWELLER   \n",
       "305914                WILD;FRIEND_OF_CROWS                AFFINITY_FOR_CROWS   \n",
       "\n",
       "             pitching_team_mods  day                               game_id  \\\n",
       "296102          POPCORN_PAYOUTS   82  bb91c04e-b44e-4df4-918f-6d446efefc6b   \n",
       "294568             SINKING_SHIP   81  6097899c-bb1e-4389-99e1-25edd0291e6f   \n",
       "246678  0;UNHOLEY;CARCINIZATION   38  97c18fdd-6a8a-4e8c-9640-aa690c3e0276   \n",
       "275903  CARCINIZATION;0;UNHOLEY   64  33d748a6-3da4-4fbd-803f-31458cf0da0d   \n",
       "296775                   GROWTH   83  ffb01670-1fea-47cd-bdb2-bb344032d045   \n",
       "...                         ...  ...                                   ...   \n",
       "279378                BIRD_SEED   67  84d8fcf3-d3d7-45db-a219-5b53d46e7842   \n",
       "300497                 MIDDLING   86  af539fd5-8dca-4c73-9692-5a5625e08cc6   \n",
       "281957                BIRD_SEED   69  d158232a-3881-400e-ba9b-8304171bd02e   \n",
       "268674            LIFE_OF_PARTY   58  6a8deef8-2dbb-4f40-b3e5-e142a39db75b   \n",
       "305914             SINKING_SHIP   90  b0df70c8-b54b-4956-a112-18d0e2f63011   \n",
       "\n",
       "        play_count  \n",
       "296102         213  \n",
       "294568         223  \n",
       "246678          25  \n",
       "275903         234  \n",
       "296775          48  \n",
       "...            ...  \n",
       "279378          74  \n",
       "300497         101  \n",
       "281957         166  \n",
       "268674         218  \n",
       "305914          12  \n",
       "\n",
       "[1174 rows x 15 columns]"
      ]
     },
     "execution_count": 28,
     "metadata": {},
     "output_type": "execute_result"
    },
    {
     "data": {
      "image/png": "[encoded data removed]",
      "text/plain": [
       "<Figure size 432x288 with 1 Axes>"
      ]
     },
     "metadata": {
      "needs_background": "light"
     },
     "output_type": "display_data"
    }
   ],
   "source": [
    "dfc[\"offset\"] = dfc[\"roll\"] - dfc[\"threshold\"]\n",
    "outliers = dfc[(dfc[\"passed\"] & (dfc[\"offset\"] > 0)) | (~dfc[\"passed\"] & (dfc[\"offset\"] < 0))]\n",
    "\n",
    "fig, ax = plt.subplots(1)\n",
    "x_val = \"runner_moxie\"\n",
    "y_val = \"offset\"\n",
    "ax.scatter(outliers[~outliers['passed']][x_val], outliers[~outliers['passed']][y_val], color=\"red\", label=\"Proc\")\n",
    "ax.scatter(outliers[outliers['passed']][x_val], outliers[outliers['passed']][y_val], color=\"blue\", label=\"No Proc\")\n",
    "ax.set_xlabel(x_val)\n",
    "ax.set_ylabel(y_val)\n",
    "ax.legend()\n",
    "\n",
    "table = outliers\n",
    "table[[\"offset\", \"weather\", \"event_type\", \"season\",\n",
    "       \"roll\", \"threshold\",\n",
    "       \"batter_name\", \"pitcher_name\", \"batter_mods\", \"pitcher_mods\",\n",
    "       \"batting_team_mods\", \"pitching_team_mods\", \"day\",  \"game_id\", \"play_count\"]].sort_values('offset')\n"
   ]
  },
  {
   "cell_type": "code",
   "execution_count": 51,
   "metadata": {},
   "outputs": [
    {
     "name": "stdout",
     "output_type": "stream",
     "text": [
      "0.02532661704696237\n",
      "0.026462907893175517\n"
     ]
    }
   ],
   "source": [
    "print(dfc[dfc[\"passed\"]][\"roll\"].max())\n",
    "print(dfc[~dfc[\"passed\"]][\"roll\"].min())"
   ]
  }
 ],
 "metadata": {
  "kernelspec": {
   "display_name": "Python 3.10.1 64-bit",
   "language": "python",
   "name": "python3"
  },
  "language_info": {
   "codemirror_mode": {
    "name": "ipython",
    "version": 3
   },
   "file_extension": ".py",
   "mimetype": "text/x-python",
   "name": "python",
   "nbconvert_exporter": "python",
   "pygments_lexer": "ipython3",
   "version": "3.10.1"
  },
  "vscode": {
   "interpreter": {
    "hash": "a1b04d3312aa2dfc88bcbb7135228523c5b96edf7a6f4946e17a88e2ba6abefa"
   }
  }
 },
 "nbformat": 4,
 "nbformat_minor": 1
}
