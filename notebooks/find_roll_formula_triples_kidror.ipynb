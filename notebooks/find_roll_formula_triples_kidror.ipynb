{
 "cells": [
  {
   "cell_type": "markdown",
   "metadata": {},
   "source": [
    "# Triples\n",
    "\n",
    "Created by Kidror originally, refined by glumbaron.\n",
    "\n",
    "Multipliers excluded from consideration for now: ON_FIRE, GROWTH, TRAVELING, CHUNKY, SMOOTH.\n",
    "\n",
    "```python\n",
    "def apply_threshold(row):\n",
    "    if row[\"season\"] in [11, 12]:\n",
    "        # S12 and S13: not that bad...\n",
    "        # multipliers work, but affinity for crows doesn't seem to affect fielders\n",
    "        # grand and obt have the same coefficient, omi and visc have the same coefficient\n",
    "        threshold = (\n",
    "            0.05\n",
    "            + 0.200 * row[\"gf_vibes\"]\n",
    "            - 0.040 * row[\"opw_vibes\"]\n",
    "            - 0.060 * row[\"chase_vibes\"]\n",
    "            + 0.020 * row[\"fwd_center\"]\n",
    "            + 0.035 * row[\"grand_center\"]\n",
    "            + 0.035 * row[\"obt_center\"]\n",
    "            - 0.005 * row[\"omi_center\"]\n",
    "            - 0.005 * row[\"visc_center\"]\n",
    "        )\n",
    "    elif row[\"season\"] in [13, 14]:\n",
    "        # S14-15: slightly fiddly but it works so...\n",
    "        # multipliers work, but affinity for crows doesn't seem to affect fielders\n",
    "        # grand and obt have the same coefficient, omi and visc have the same coefficient\n",
    "        threshold = (\n",
    "            0.045\n",
    "            + 0.2000 * row[\"gf_vibes\"]\n",
    "            - 0.0400 * row[\"opw_vibes\"]\n",
    "            - 0.0500 * row[\"chase_vibes\"]\n",
    "            + 0.0200 * row[\"fwd_center\"]\n",
    "            + 0.0340 * row[\"grand_center\"]\n",
    "            + 0.0340 * row[\"obt_center\"]\n",
    "            - 0.0065 * row[\"omi_center\"]\n",
    "            - 0.0065 * row[\"visc_center\"]\n",
    "        )\n",
    "    return threshold\n",
    "```"
   ]
  },
  {
   "cell_type": "code",
   "execution_count": 1,
   "metadata": {
    "collapsed": false,
    "jupyter": {
     "outputs_hidden": false
    },
    "pycharm": {
     "name": "#%%\n"
    }
   },
   "outputs": [
    {
     "data": {
      "text/plain": [
       "49242"
      ]
     },
     "execution_count": 1,
     "metadata": {},
     "output_type": "execute_result"
    }
   ],
   "source": [
    "import glob\n",
    "\n",
    "import pandas as pd\n",
    "import matplotlib.pyplot as plt\n",
    "import numpy as np\n",
    "from matplotlib.markers import CARETLEFTBASE, CARETRIGHTBASE\n",
    "\n",
    "all_files = glob.glob(\"../roll_data/*-triples.csv\")\n",
    "\n",
    "df = pd.concat((pd.read_csv(f) for f in all_files), ignore_index=True)\n",
    "\n",
    "# seasons = [11, 12]\n",
    "seasons = [11, 12, 13, 14]\n",
    "# seasons = [13]\n",
    "# seasons = [13, 14]\n",
    "df = df[df['season'].isin(seasons)]\n",
    "len(df)"
   ]
  },
  {
   "cell_type": "code",
   "execution_count": 2,
   "metadata": {},
   "outputs": [],
   "source": [
    "def get_pitcher_mul(row):\n",
    "    pm = str(row[\"pitcher_mods\"])\n",
    "    ptm = str(row[\"pitching_team_mods\"])\n",
    "    mul = 1\n",
    "    if \"OVERPERFORMING\" in pm:\n",
    "        mul += 0.2\n",
    "    if \"OVERPERFORMING\" in ptm:\n",
    "        mul += 0.2\n",
    "    if \"UNDERPERFORMING\" in pm:\n",
    "        mul -= 0.2\n",
    "    if \"UNDERPERFORMING\" in ptm:\n",
    "        mul -= 0.2\n",
    "    if \"TRAVELING\" in ptm:\n",
    "        # pass # sometimes traveling doesn't do anything on pitchers, but not always\n",
    "        if not row[\"top_of_inning\"]:\n",
    "            mul += 0.05\n",
    "    if \"HIGH_PRESSURE\" in ptm:\n",
    "        if row[\"weather\"] == \"Weather.FLOODING\" and row[\"baserunner_count\"] > 0:\n",
    "            mul += 0.25\n",
    "    if \"GROWTH\" in ptm:\n",
    "        # pass # sometimes growth doesn't do anything on pitchers, but not always\n",
    "        mul += min(0.05, 0.05 * (row[\"day\"] / 99))\n",
    "    if \"SINKING_SHIP\" in ptm:\n",
    "        mul += (14 - row[\"pitching_team_roster_size\"]) * 0.01\n",
    "    if \"AFFINITY_FOR_CROWS\" in ptm and row[\"weather\"] == \"Weather.BIRDS\":\n",
    "        mul += 0.5\n",
    "    # if row[\"pitcher_name\"] == \"Sutton Dreamy\" and row[\"weather\"] == \"Weather.ECLIPSE\":\n",
    "        # NVGs allow the player to play 50% better in a solar eclipse.\n",
    "        # This might affect fielding and baserunning as well?\n",
    "        # this will 100% break if Dreamy gets scattered. And when they lose the old NVGs.\n",
    "        # Did anyone with this mod *ever* pitch???\n",
    "        # mul += 0.50\n",
    "    return mul\n",
    "\n",
    "\n",
    "def get_batter_mul(row):\n",
    "    bm = str(row[\"batter_mods\"])\n",
    "    btm = str(row[\"batting_team_mods\"])\n",
    "    ptm = str(row[\"pitching_team_mods\"])\n",
    "    mul = 1\n",
    "    if \"OVERPERFORMING\" in bm:\n",
    "        mul += 0.2\n",
    "    if \"OVERPERFORMING\" in btm:\n",
    "        mul += 0.2\n",
    "    if \"UNDERPERFORMING\" in bm:\n",
    "        mul -= 0.2\n",
    "    if \"UNDERPERFORMING\" in btm:\n",
    "        mul -= 0.2\n",
    "    if \"TRAVELING\" in btm:\n",
    "        # pass\n",
    "        if row[\"top_of_inning\"]:\n",
    "            mul += 0.05\n",
    "    if \"GROWTH\" in btm:\n",
    "        # pass\n",
    "        mul += min(0.05, 0.05 * (row[\"day\"] / 99))\n",
    "    if \"HIGH_PRESSURE\" in btm:\n",
    "        if row[\"weather\"] == \"Weather.FLOODING\" and row[\"baserunner_count\"] > 0:\n",
    "            mul += 0.25\n",
    "    if \"SINKING_SHIP\" in btm:\n",
    "        mul += (14 - row[\"batting_team_roster_size\"]) * 0.01\n",
    "    if \"AFFINITY_FOR_CROWS\" in btm and row[\"weather\"] == \"Weather.BIRDS\":\n",
    "        mul += 0.5\n",
    "    if \"CHUNKY\" in bm and row[\"weather\"] == \"Weather.PEANUTS\":\n",
    "        # I have handling for these but it's clumsy and possibly easier to do \"manually\"\n",
    "        pass\n",
    "    if \"SMOOTH\" in bm and row[\"weather\"] == \"Weather.PEANUTS\":\n",
    "        # I have handling for these but it's clumsy and possibly easier to do \"manually\"\n",
    "        pass\n",
    "    if \"ON_FIRE\" in bm:\n",
    "        # todo: handle properly, which requires figuring out how it works, which sucks\n",
    "        mul += 2.0\n",
    "    # if row[\"batter_name\"] == \"Sutton Dreamy\" and row[\"weather\"] == \"Weather.ECLIPSE\":\n",
    "        # NVGs allow the player to play 50% better in a solar eclipse.\n",
    "        # This might affect fielding and baserunning as well?\n",
    "        # this will 100% break if Dreamy gets scattered. And when they lose the old NVGs.\n",
    "        # mul += 0.50\n",
    "    return mul\n",
    "\n",
    "# patch the fielder multiplier, which missed Shelled when done in resim.py (last time I ran it anyway)\n",
    "def get_fielder_mul(row):\n",
    "    fm = str(row[\"fielder_mods\"])\n",
    "    ptm = str(row[\"pitching_team_mods\"])\n",
    "    mul = 1\n",
    "    if \"OVERPERFORMING\" in fm:\n",
    "        mul += 0.2\n",
    "    if \"OVERPERFORMING\" in ptm:\n",
    "        mul += 0.2\n",
    "    if \"UNDERPERFORMING\" in fm:\n",
    "        mul -= 0.2\n",
    "    if \"UNDERPERFORMING\" in ptm:\n",
    "        mul -= 0.2\n",
    "    if \"TRAVELING\" in ptm:\n",
    "        # pass\n",
    "        if not row[\"top_of_inning\"]:\n",
    "            mul += 0.05\n",
    "    if \"HIGH_PRESSURE\" in ptm:\n",
    "        if row[\"weather\"] == \"Weather.FLOODING\" and row[\"baserunner_count\"] > 0:\n",
    "            mul += 0.25\n",
    "    if \"GROWTH\" in ptm:\n",
    "        mul += min(0.05, 0.05 * (row[\"day\"] / 99))\n",
    "    if \"SINKING_SHIP\" in ptm:\n",
    "        mul += (14 - row[\"pitching_team_roster_size\"]) * 0.01\n",
    "    # if \"AFFINITY_FOR_CROWS\" in ptm and row[\"weather\"] == \"Weather.BIRDS\":\n",
    "        # mul += 0.5  # doesn't apply to fielders I guess?\n",
    "    if \"SHELLED\" in fm:\n",
    "        # is it this, or is it \"mul = 0\", I wonder\n",
    "        mul -= 1.0\n",
    "    # if row[\"fielder_name\"] == \"Sutton Dreamy\" and row[\"weather\"] == \"Weather.ECLIPSE\":\n",
    "        # NVGs allow the player to play 50% better in a solar eclipse.\n",
    "        # This might affect fielding and baserunning as well?\n",
    "        # mul += 0.50\n",
    "    return mul #if mul == 0 else 1.0\n",
    "\n",
    "df[\"batter_multiplier\"] = df.apply(get_batter_mul, axis=1)\n",
    "df[\"pitcher_multiplier\"] = df.apply(get_pitcher_mul, axis=1)\n",
    "df[\"fielder_multiplier\"] = df.apply(get_fielder_mul, axis=1)"
   ]
  },
  {
   "cell_type": "code",
   "execution_count": 3,
   "metadata": {},
   "outputs": [],
   "source": [
    "\n",
    "dfc = df.copy()\n",
    "for exclude_mod in [\"ON_FIRE\",\n",
    "                    # \"OVERPERFORMING\", \"UNDERPERFORMING\", \"HIGH_PRESSURE\", \"SINKING_SHIP\", \n",
    "                    \"GROWTH\", \"TRAVELING\",\n",
    "                    \"CHUNKY\", \"SMOOTH\",\n",
    "            ]:\n",
    "    dfc = dfc[~dfc[\"batter_mods\"].astype(str).str.contains(exclude_mod)]\n",
    "    dfc = dfc[~dfc[\"pitcher_mods\"].astype(str).str.contains(exclude_mod)]\n",
    "    dfc = dfc[~dfc[\"pitching_team_mods\"].astype(str).str.contains(exclude_mod)]\n",
    "    dfc = dfc[~dfc[\"batting_team_mods\"].astype(str).str.contains(exclude_mod)]\n",
    "\n",
    "batter_params = ['batter_buoyancy', 'batter_divinity', 'batter_martyrdom', 'batter_moxie', 'batter_musclitude', 'batter_patheticism', 'batter_thwackability', 'batter_tragicness', \"batter_ground_friction\"]\n",
    "pitcher_params = ['pitcher_ruthlessness', 'pitcher_overpowerment', 'pitcher_unthwackability', 'pitcher_shakespearianism', 'pitcher_suppression', 'pitcher_coldness']\n",
    "fielder_params = ['fielder_anticapitalism', 'fielder_chasiness', 'fielder_omniscience', 'fielder_tenaciousness', 'fielder_watchfulness']\n",
    "\n",
    "for attr in batter_params:\n",
    "    # pass\n",
    "    dfc[attr] = dfc[attr] * df['batter_multiplier']\n",
    "for attr in pitcher_params:\n",
    "    # pass\n",
    "    dfc[attr] = dfc[attr] * df['pitcher_multiplier']\n",
    "for attr in fielder_params:\n",
    "    # pass\n",
    "    dfc[attr] = dfc[attr] * df['fielder_multiplier']\n",
    "\n",
    "dfc.loc[dfc[\"pitcher_mods\"].astype(str).str.contains(\"SCATTERED\"),\"pitcher_vibes\"] = 0\n",
    "dfc.loc[dfc[\"batter_mods\"].astype(str).str.contains(\"SCATTERED\"),\"batter_vibes\"] = 0\n",
    "dfc.loc[dfc[\"fielder_mods\"].astype(str).str.contains(\"SCATTERED\"),\"fielder_vibes\"] = 0\n",
    "\n",
    "# dfc = dfc[dfc[\"batter_multiplier\"] == 1]\n",
    "# dfc = dfc[dfc[\"pitcher_multiplier\"] == 1]\n",
    "# dfc = dfc[dfc[\"fielder_multiplier\"] == 1]\n",
    "\n",
    "dfc[\"gf_vibes\"] = dfc[\"batter_ground_friction\"] * (1 + 0.2*dfc[\"batter_vibes\"])\n",
    "dfc[\"opw_vibes\"] = dfc[\"pitcher_overpowerment\"] * (1 + 0.2*dfc[\"pitcher_vibes\"])\n",
    "dfc[\"chase_vibes\"] = dfc[\"fielder_chasiness\"] * (1 + 0.2*dfc[\"fielder_vibes\"])\n",
    "dfc[\"fwd_center\"] = dfc[\"ballpark_forwardness\"] - 0.5\n",
    "dfc[\"grand_center\"] = dfc[\"ballpark_grandiosity\"] - 0.5\n",
    "dfc[\"obt_center\"] = dfc[\"ballpark_obtuseness\"] - 0.5\n",
    "dfc[\"visc_center\"] = dfc[\"ballpark_viscosity\"] - 0.5\n",
    "dfc[\"omi_center\"] = dfc[\"ballpark_ominousness\"] - 0.5\n",
    "\n",
    "dfc[\"grandobt\"] =  dfc[\"grand_center\"] + dfc[\"obt_center\"]\n",
    "dfc[\"omivisc\"] = dfc[\"visc_center\"] + dfc[\"omi_center\"]\n"
   ]
  },
  {
   "cell_type": "code",
   "execution_count": 4,
   "metadata": {},
   "outputs": [
    {
     "name": "stdout",
     "output_type": "stream",
     "text": [
      "[[35395    28]\n",
      " [   20  4827]]\n",
      "48 outliers\n",
      "0.9988080456915818\n",
      "intercept: 0.045\n",
      "(0.2, 'gf_vibes')\n",
      "(-0.04, 'opw_vibes')\n",
      "(-0.05, 'chase_vibes')\n",
      "(0.02, 'fwd_center')\n",
      "(0.034, 'grandobt')\n",
      "(-0.0065, 'omivisc')\n"
     ]
    }
   ],
   "source": [
    "from sklearn.preprocessing import StandardScaler\n",
    "from sklearn.metrics import confusion_matrix\n",
    "from sklearn.metrics import classification_report\n",
    "from sklearn import svm, linear_model\n",
    "\n",
    "\n",
    "X = dfc[[\"roll\", \"gf_vibes\", \"opw_vibes\", \"chase_vibes\",# \"supp_vibes\",\n",
    "         \"fwd_center\",\n",
    "         \"grandobt\",\n",
    "         \"omivisc\",\n",
    "        ]].copy()\n",
    "y = dfc['passed']\n",
    "\n",
    "# # S12-13\n",
    "# pin_intercept = 0.05\n",
    "# # pin_intercept = None\n",
    "# pins = [\n",
    "#     (0.20, \"gf_vibes\"),\n",
    "#     (-0.040, \"opw_vibes\"),\n",
    "#     (-0.06, \"chase_vibes\"),\n",
    "#     (0.02, \"fwd_center\"),\n",
    "#     (0.035, \"grandobt\"),\n",
    "#     (-0.005, \"omivisc\"),\n",
    "# ]\n",
    "\n",
    "# S14-15\n",
    "pin_intercept = 0.045\n",
    "# pin_intercept = None\n",
    "pins = [\n",
    "    (0.20, \"gf_vibes\"),\n",
    "    (-0.040, \"opw_vibes\"),\n",
    "    (-0.05, \"chase_vibes\"),\n",
    "    (0.02, \"fwd_center\"),\n",
    "    (0.034, \"grandobt\"),\n",
    "    (-0.0065, \"omivisc\"),\n",
    "]\n",
    "for val, var in pins:\n",
    "    X[\"roll\"] -= X[var] * val\n",
    "    X = X.drop(var, axis=1)\n",
    "\n",
    "sc = StandardScaler(with_mean=False)\n",
    "X2 = sc.fit_transform(X)\n",
    "if pin_intercept is not None:\n",
    "    X2[:,0] -= pin_intercept / sc.scale_[0]\n",
    "\n",
    "trainedsvm = svm.LinearSVC(dual=False, max_iter=100000, C=100000000, tol=1e-12,\n",
    "                           fit_intercept=pin_intercept is None).fit(X2, y)\n",
    "predictionsvm = trainedsvm.predict(X2)\n",
    "# print(len(dfc[~dfc[\"passed\"]]))\n",
    "# print(len(dfc[dfc[\"passed\"]]))\n",
    "print(confusion_matrix(y, predictionsvm))\n",
    "print(confusion_matrix(y, predictionsvm)[0,1] + confusion_matrix(y, predictionsvm)[1,0], \"outliers\")\n",
    "print(trainedsvm.score(X2, y))\n",
    "\n",
    "coef = np.true_divide(trainedsvm.coef_, sc.scale_)\n",
    "coef_scaled = coef / coef[0, 0]\n",
    "coef_list = coef_scaled.tolist()[0]\n",
    "\n",
    "intercept = trainedsvm.intercept_# - np.dot(coef, sc.mean_)\n",
    "intercept_scaled = -(intercept / coef[0, 0])[0] if pin_intercept is None else pin_intercept\n",
    "\n",
    "dfc[\"threshold\"] = intercept_scaled\n",
    "print(\"intercept:\", intercept_scaled)\n",
    "for pair in pins + list(zip(-np.array(coef_list), X.columns)):\n",
    "    if \"roll\" not in pair[1]:\n",
    "        print(pair)\n",
    "        dfc[\"threshold\"] += pair[0] * dfc[pair[1]]\n",
    "\n",
    "# this'll have outliers because it's trying to fit both pairs of seasons at once.\n",
    "# ignore that, see below"
   ]
  },
  {
   "cell_type": "code",
   "execution_count": 5,
   "metadata": {
    "tags": []
   },
   "outputs": [],
   "source": [
    "def apply_threshold(row):\n",
    "    if row[\"season\"] in [11, 12]:\n",
    "        threshold = (\n",
    "            0.05\n",
    "            + 0.200 * row[\"gf_vibes\"]\n",
    "            - 0.040 * row[\"opw_vibes\"]\n",
    "            - 0.060 * row[\"chase_vibes\"]\n",
    "            + 0.020 * row[\"fwd_center\"]\n",
    "            + 0.035 * row[\"grand_center\"]\n",
    "            + 0.035 * row[\"obt_center\"]\n",
    "            - 0.005 * row[\"omi_center\"]\n",
    "            - 0.005 * row[\"visc_center\"]\n",
    "        )\n",
    "    elif row[\"season\"] in [13, 14]:\n",
    "        threshold = (\n",
    "            0.045\n",
    "            + 0.2000 * row[\"gf_vibes\"]\n",
    "            - 0.0400 * row[\"opw_vibes\"]\n",
    "            - 0.0500 * row[\"chase_vibes\"]\n",
    "            + 0.0200 * row[\"fwd_center\"]\n",
    "            + 0.0340 * row[\"grand_center\"]\n",
    "            + 0.0340 * row[\"obt_center\"]\n",
    "            - 0.0065 * row[\"omi_center\"]\n",
    "            - 0.0065 * row[\"visc_center\"]\n",
    "        )\n",
    "    return threshold\n",
    "\n",
    "dfc[\"threshold\"] = dfc.apply(apply_threshold, axis=1)"
   ]
  },
  {
   "cell_type": "code",
   "execution_count": 6,
   "metadata": {},
   "outputs": [
    {
     "data": {
      "text/plain": [
       "<matplotlib.legend.Legend at 0x7f96c49c0a90>"
      ]
     },
     "execution_count": 6,
     "metadata": {},
     "output_type": "execute_result"
    },
    {
     "data": {
      "image/png": "[encoded data removed]",
      "text/plain": [
       "<Figure size 432x288 with 1 Axes>"
      ]
     },
     "metadata": {
      "needs_background": "light"
     },
     "output_type": "display_data"
    }
   ],
   "source": [
    "dfc[\"offset\"] = dfc[\"roll\"] - dfc[\"threshold\"]\n",
    "outliers = dfc[(dfc[\"passed\"] & (dfc[\"offset\"] > 0)) | (~dfc[\"passed\"] & (dfc[\"offset\"] < 0))]\n",
    "\n",
    "fig, ax = plt.subplots(1)\n",
    "x_val = \"threshold\"\n",
    "# x_val = \"gf_vibes\"\n",
    "x_val = \"grandobt\"\n",
    "y_val = \"offset\"\n",
    "ax.scatter(\n",
    "    outliers[~outliers['passed']][x_val],\n",
    "    outliers[~outliers['passed']][y_val],\n",
    "    color=\"red\",\n",
    "    label=\"Triple\"\n",
    ")\n",
    "ax.scatter(\n",
    "    outliers[outliers['passed']][x_val],\n",
    "    outliers[outliers['passed']][y_val],\n",
    "    color=\"blue\",\n",
    "    label=\"Other Hit\"\n",
    ")\n",
    "ax.set_xlabel(x_val)\n",
    "ax.set_ylabel(y_val)\n",
    "ax.legend()\n"
   ]
  },
  {
   "cell_type": "code",
   "execution_count": 7,
   "metadata": {},
   "outputs": [
    {
     "name": "stdout",
     "output_type": "stream",
     "text": [
      "0\n"
     ]
    },
    {
     "data": {
      "text/html": [
       "<div>\n",
       "<style scoped>\n",
       "    .dataframe tbody tr th:only-of-type {\n",
       "        vertical-align: middle;\n",
       "    }\n",
       "\n",
       "    .dataframe tbody tr th {\n",
       "        vertical-align: top;\n",
       "    }\n",
       "\n",
       "    .dataframe thead th {\n",
       "        text-align: right;\n",
       "    }\n",
       "</style>\n",
       "<table border=\"1\" class=\"dataframe\">\n",
       "  <thead>\n",
       "    <tr style=\"text-align: right;\">\n",
       "      <th></th>\n",
       "      <th>offset</th>\n",
       "      <th>weather</th>\n",
       "      <th>event_type</th>\n",
       "      <th>batter_multiplier</th>\n",
       "      <th>pitcher_multiplier</th>\n",
       "      <th>fielder_multiplier</th>\n",
       "      <th>roll</th>\n",
       "      <th>threshold</th>\n",
       "      <th>gf_vibes</th>\n",
       "      <th>opw_vibes</th>\n",
       "      <th>...</th>\n",
       "      <th>pitcher_mods</th>\n",
       "      <th>fielder_mods</th>\n",
       "      <th>batting_team_mods</th>\n",
       "      <th>pitching_team_mods</th>\n",
       "      <th>season</th>\n",
       "      <th>day</th>\n",
       "      <th>game_id</th>\n",
       "      <th>play_count</th>\n",
       "      <th>ball_count</th>\n",
       "      <th>strike_count</th>\n",
       "    </tr>\n",
       "  </thead>\n",
       "  <tbody>\n",
       "  </tbody>\n",
       "</table>\n",
       "<p>0 rows × 22 columns</p>\n",
       "</div>"
      ],
      "text/plain": [
       "Empty DataFrame\n",
       "Columns: [offset, weather, event_type, batter_multiplier, pitcher_multiplier, fielder_multiplier, roll, threshold, gf_vibes, opw_vibes, chase_vibes, batter_mods, pitcher_mods, fielder_mods, batting_team_mods, pitching_team_mods, season, day, game_id, play_count, ball_count, strike_count]\n",
       "Index: []\n",
       "\n",
       "[0 rows x 22 columns]"
      ]
     },
     "execution_count": 7,
     "metadata": {},
     "output_type": "execute_result"
    }
   ],
   "source": [
    "table = outliers\n",
    "print(len(table))\n",
    "table[[\"offset\", \"weather\", \"event_type\", \"batter_multiplier\", \"pitcher_multiplier\", \"fielder_multiplier\",\n",
    "       \"roll\", \"threshold\",\n",
    "       \"gf_vibes\",\n",
    "       \"opw_vibes\",\n",
    "       \"chase_vibes\",\n",
    "       # \"fielder_name\",\n",
    "       # \"batter_name\", \"pitcher_name\",\n",
    "       # \"fwd_center\",\n",
    "       # \"grand_center\",\n",
    "       # \"obt_center\",\n",
    "       # \"visc_center\",\n",
    "       \"batter_mods\", \"pitcher_mods\", \"fielder_mods\",\n",
    "       \"batting_team_mods\", \"pitching_team_mods\",\n",
    "       \"season\", \"day\",\n",
    "       \"game_id\", \"play_count\",\n",
    "      \"ball_count\",\"strike_count\",]].sort_values('offset')"
   ]
  },
  {
   "cell_type": "code",
   "execution_count": 8,
   "metadata": {
    "tags": []
   },
   "outputs": [
    {
     "data": {
      "text/plain": [
       "<matplotlib.legend.Legend at 0x7f96915744c0>"
      ]
     },
     "execution_count": 8,
     "metadata": {},
     "output_type": "execute_result"
    },
    {
     "data": {
      "image/png": "[encoded data removed]",
      "text/plain": [
       "<Figure size 720x432 with 1 Axes>"
      ]
     },
     "metadata": {
      "needs_background": "light"
     },
     "output_type": "display_data"
    }
   ],
   "source": [
    "x_val = \"threshold\"\n",
    "fig, ax = plt.subplots(1, figsize=(10, 6))\n",
    "ax.scatter(dfc[~dfc['passed']][x_val], dfc[~dfc['passed']][\"roll\"], color=\"red\",\n",
    "           label=\"Other Hit\", marker=CARETRIGHTBASE)\n",
    "ax.scatter(dfc[dfc['passed']][x_val], dfc[dfc['passed']][\"roll\"], color=\"blue\",\n",
    "           label=\"Triple\", marker=CARETLEFTBASE)\n",
    "ax.plot([0, 1], [0, 1])\n",
    "ax.set_xlabel(x_val)\n",
    "ax.set_ylabel('roll')\n",
    "ax.set_title(\"Triples\")\n",
    "ax.set_xlim([-0.1, 0.5])\n",
    "ax.set_ylim([0.0, 0.5])\n",
    "ax.legend()"
   ]
  },
  {
   "cell_type": "code",
   "execution_count": 9,
   "metadata": {},
   "outputs": [],
   "source": [
    "# print(dfc[dfc[\"passed\"]][\"roll\"].max())\n",
    "# print(dfc[~dfc[\"passed\"]][\"roll\"].min())"
   ]
  },
  {
   "cell_type": "code",
   "execution_count": 10,
   "metadata": {},
   "outputs": [],
   "source": [
    "# print(dfc[dfc[\"passed\"]][\"roll\"].min())\n",
    "# print(dfc[~dfc[\"passed\"]][\"roll\"].max())"
   ]
  },
  {
   "cell_type": "code",
   "execution_count": 11,
   "metadata": {},
   "outputs": [],
   "source": [
    "# dfc.groupby(\"stadium_id\").size()"
   ]
  },
  {
   "cell_type": "code",
   "execution_count": null,
   "metadata": {},
   "outputs": [],
   "source": []
  },
  {
   "cell_type": "code",
   "execution_count": null,
   "metadata": {},
   "outputs": [],
   "source": []
  }
 ],
 "metadata": {
  "kernelspec": {
   "display_name": "Python 3 (ipykernel)",
   "language": "python",
   "name": "python3"
  },
  "language_info": {
   "codemirror_mode": {
    "name": "ipython",
    "version": 3
   },
   "file_extension": ".py",
   "mimetype": "text/x-python",
   "name": "python",
   "nbconvert_exporter": "python",
   "pygments_lexer": "ipython3",
   "version": "3.9.12"
  },
  "vscode": {
   "interpreter": {
    "hash": "893958406e8c6944eb13075791d2ee6bb1de84c8ef46ad5e9bf9040b431b0bd8"
   }
  }
 },
 "nbformat": 4,
 "nbformat_minor": 4
}
