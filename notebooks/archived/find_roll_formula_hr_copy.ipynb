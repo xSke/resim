{
 "cells": [
  {
   "cell_type": "markdown",
   "metadata": {},
   "source": [
    "Archived copy of my old home run notebook -- glumbaron"
   ]
  },
  {
   "cell_type": "code",
   "execution_count": 1,
   "metadata": {},
   "outputs": [
    {
     "name": "stderr",
     "output_type": "stream",
     "text": [
      "/var/folders/g5/scl2096539l75kwsbhhq4pth0000gn/T/ipykernel_46726/1599002000.py:9: DtypeWarning: Columns (116) have mixed types. Specify dtype option on import or set low_memory=False.\n",
      "  df = pd.concat((pd.read_csv(f) for f in all_files), ignore_index=True)\n",
      "/var/folders/g5/scl2096539l75kwsbhhq4pth0000gn/T/ipykernel_46726/1599002000.py:9: DtypeWarning: Columns (107,123) have mixed types. Specify dtype option on import or set low_memory=False.\n",
      "  df = pd.concat((pd.read_csv(f) for f in all_files), ignore_index=True)\n"
     ]
    },
    {
     "data": {
      "text/plain": [
       "60498"
      ]
     },
     "execution_count": 1,
     "metadata": {},
     "output_type": "execute_result"
    }
   ],
   "source": [
    "import glob\n",
    "\n",
    "import pandas as pd\n",
    "import matplotlib.pyplot as plt\n",
    "import numpy as np\n",
    "from matplotlib.markers import CARETLEFTBASE, CARETRIGHTBASE\n",
    "\n",
    "all_files = glob.glob(\"../roll_data/*-hr.csv\")\n",
    "df = pd.concat((pd.read_csv(f) for f in all_files), ignore_index=True)\n",
    "\n",
    "# seasons = [11]\n",
    "seasons = [11, 12, 13, 14]\n",
    "# seasons = [13]\n",
    "# seasons = [14]\n",
    "df = df[df['season'].isin(seasons)]\n",
    "len(df)"
   ]
  },
  {
   "cell_type": "code",
   "execution_count": 2,
   "metadata": {},
   "outputs": [],
   "source": [
    "def get_pitcher_mul(row):\n",
    "    pm = str(row[\"pitcher_mods\"])\n",
    "    ptm = str(row[\"pitching_team_mods\"])\n",
    "    mul = 1\n",
    "    if \"OVERPERFORMING\" in pm:\n",
    "        mul += 0.2\n",
    "    if \"OVERPERFORMING\" in ptm:\n",
    "        mul += 0.2\n",
    "    if \"UNDERPERFORMING\" in pm:\n",
    "        mul -= 0.2\n",
    "    if \"UNDERPERFORMING\" in ptm:\n",
    "        mul -= 0.2\n",
    "    if \"TRAVELING\" in ptm:\n",
    "        # pass # sometimes traveling doesn't do anything on pitchers, but not always\n",
    "        if not row[\"top_of_inning\"]:\n",
    "            mul += 0.05\n",
    "    if \"HIGH_PRESSURE\" in ptm:\n",
    "        if row[\"weather\"] == \"Weather.FLOODING\" and row[\"baserunner_count\"] > 0:\n",
    "            mul += 0.25\n",
    "    if \"GROWTH\" in ptm:\n",
    "        # pass # sometimes growth doesn't do anything on pitchers, but not always\n",
    "        mul += min(0.05, 0.05 * (row[\"day\"] / 99))\n",
    "    if \"SINKING_SHIP\" in ptm:\n",
    "        mul += (14 - row[\"pitching_team_roster_size\"]) * 0.01\n",
    "    if \"AFFINITY_FOR_CROWS\" in ptm and row[\"weather\"] == \"Weather.BIRDS\":\n",
    "        mul += 0.5\n",
    "    if row[\"pitcher_name\"] == \"Sutton Dreamy\" and row[\"weather\"] == \"Weather.ECLIPSE\":\n",
    "        # NVGs allow the player to play 50% better in a solar eclipse.\n",
    "        # This might affect fielding and baserunning as well?\n",
    "        # this will 100% break if Dreamy gets scattered. And when they lose the old NVGs.\n",
    "        # Did anyone with this mod *ever* pitch???\n",
    "        mul += 0.50\n",
    "    return mul\n",
    "\n",
    "\n",
    "def get_batter_mul(row):\n",
    "    bm = str(row[\"batter_mods\"])\n",
    "    btm = str(row[\"batting_team_mods\"])\n",
    "    ptm = str(row[\"pitching_team_mods\"])\n",
    "    mul = 1\n",
    "    if \"OVERPERFORMING\" in bm:\n",
    "        mul += 0.2\n",
    "    if \"OVERPERFORMING\" in btm:\n",
    "        mul += 0.2\n",
    "    if \"UNDERPERFORMING\" in bm:\n",
    "        mul -= 0.2\n",
    "    if \"UNDERPERFORMING\" in btm:\n",
    "        mul -= 0.2\n",
    "    if \"TRAVELING\" in btm:\n",
    "        # pass\n",
    "        if row[\"top_of_inning\"]:\n",
    "            mul += 0.05\n",
    "    if \"GROWTH\" in btm:\n",
    "        # pass\n",
    "        mul += min(0.05, 0.05 * (row[\"day\"] / 99))\n",
    "    if \"HIGH_PRESSURE\" in btm:\n",
    "        if row[\"weather\"] == \"Weather.FLOODING\" and row[\"baserunner_count\"] > 0:\n",
    "            mul += 0.25\n",
    "    if \"SINKING_SHIP\" in btm:\n",
    "        mul += (14 - row[\"batting_team_roster_size\"]) * 0.01\n",
    "    if \"AFFINITY_FOR_CROWS\" in btm and row[\"weather\"] == \"Weather.BIRDS\":\n",
    "        mul += 0.5\n",
    "    if \"CHUNKY\" in bm and row[\"weather\"] == \"Weather.PEANUTS\":\n",
    "        # I have handling for these but it's clumsy and possibly easier to do \"manually\"\n",
    "        mul +\n",
    "        pass\n",
    "    if \"SMOOTH\" in bm and row[\"weather\"] == \"Weather.PEANUTS\":\n",
    "        # I have handling for these but it's clumsy and possibly easier to do \"manually\"\n",
    "        pass\n",
    "    if \"ON_FIRE\" in bm:\n",
    "        # todo: handle properly, which requires figuring out how it works, which sucks\n",
    "        mul += 2.0\n",
    "    if row[\"batter_name\"] == \"Sutton Dreamy\" and row[\"weather\"] == \"Weather.ECLIPSE\":\n",
    "        # NVGs allow the player to play 50% better in a solar eclipse.\n",
    "        # This might affect fielding and baserunning as well?\n",
    "        # this will 100% break if Dreamy gets scattered. And when they lose the old NVGs.\n",
    "        mul += 0.50\n",
    "    return mul\n",
    "\n",
    "\n",
    "def get_fielder_mul(row):\n",
    "    fm = str(row[\"fielder_mods\"])\n",
    "    ptm = str(row[\"pitching_team_mods\"])\n",
    "    mul = 1\n",
    "    if \"OVERPERFORMING\" in fm:\n",
    "        mul += 0.2\n",
    "    if \"OVERPERFORMING\" in ptm:\n",
    "        mul += 0.2\n",
    "    if \"UNDERPERFORMING\" in fm:\n",
    "        mul -= 0.2\n",
    "    if \"UNDERPERFORMING\" in ptm:\n",
    "        mul -= 0.2\n",
    "    if \"TRAVELING\" in ptm:\n",
    "        # pass\n",
    "        if not row[\"top_of_inning\"]:\n",
    "            mul += 0.05\n",
    "    if \"HIGH_PRESSURE\" in ptm:\n",
    "        if row[\"weather\"] == \"Weather.FLOODING\" and row[\"baserunner_count\"] > 0:\n",
    "            mul += 0.25\n",
    "    if \"GROWTH\" in ptm:\n",
    "        mul += min(0.05, 0.05 * (row[\"day\"] / 99))\n",
    "        # pass\n",
    "    if \"SINKING_SHIP\" in ptm:\n",
    "        mul += (14 - row[\"pitching_team_roster_size\"]) * 0.01\n",
    "    if \"AFFINITY_FOR_CROWS\" in ptm and row[\"weather\"] == \"Weather.BIRDS\":\n",
    "        mul += 0.5\n",
    "    if \"SHELLED\" in fm:\n",
    "        # is it this, or is it \"mul = 0\", I wonder\n",
    "        mul -= 1.0\n",
    "    if row[\"fielder_name\"] == \"Sutton Dreamy\" and row[\"weather\"] == \"Weather.ECLIPSE\":\n",
    "        # NVGs allow the player to play 50% better in a solar eclipse.\n",
    "        # This might affect fielding and baserunning as well?\n",
    "        # this will 100% break if Dreamy gets scattered. And when they lose the old NVGs.\n",
    "        mul += 0.50\n",
    "    return mul\n"
   ]
  },
  {
   "cell_type": "code",
   "execution_count": 3,
   "metadata": {},
   "outputs": [
    {
     "data": {
      "text/plain": [
       "60255"
      ]
     },
     "execution_count": 3,
     "metadata": {},
     "output_type": "execute_result"
    }
   ],
   "source": [
    "dfc = df.copy()\n",
    "dfc[\"batter_mul\"] = dfc.apply(get_batter_mul, axis=1)\n",
    "dfc[\"pitcher_mul\"] = dfc.apply(get_pitcher_mul, axis=1)\n",
    "\n",
    "for exclude_mod in [\"ON_FIRE\"]:\n",
    "# for exclude_mod in [\"ON_FIRE\", \"GROWTH\", \"SINKING_SHIP\", \"TRAVELING\", \"CHUNKY\", \"SMOOTH\"]:\n",
    "    dfc = dfc[~dfc[\"batter_mods\"].astype(str).str.contains(exclude_mod)]\n",
    "    dfc = dfc[~dfc[\"pitcher_mods\"].astype(str).str.contains(exclude_mod)]\n",
    "    dfc = dfc[~dfc[\"pitching_team_mods\"].astype(str).str.contains(exclude_mod)]\n",
    "    dfc = dfc[~dfc[\"batting_team_mods\"].astype(str).str.contains(exclude_mod)]\n",
    "\n",
    "batter_params = [\n",
    "    \"batter_buoyancy\",\n",
    "    \"batter_divinity\",\n",
    "    \"batter_martyrdom\",\n",
    "    \"batter_moxie\",\n",
    "    \"batter_musclitude\",\n",
    "    \"batter_patheticism\",\n",
    "    \"batter_thwackability\",\n",
    "    \"batter_tragicness\",\n",
    "    \"batter_coldness\",\n",
    "    \"batter_overpowerment\",\n",
    "    \"batter_ruthlessness\",\n",
    "    \"batter_shakespearianism\",\n",
    "    \"batter_suppression\",\n",
    "    \"batter_unthwackability\",\n",
    "    \"batter_base_thirst\",\n",
    "    \"batter_continuation\",\n",
    "    \"batter_ground_friction\",\n",
    "    \"batter_indulgence\",\n",
    "    \"batter_laserlikeness\",\n",
    "    \"batter_anticapitalism\",\n",
    "    \"batter_chasiness\",\n",
    "    \"batter_omniscience\",\n",
    "    \"batter_tenaciousness\",\n",
    "    \"batter_watchfulness\",\n",
    "    \"batter_pressurization\",\n",
    "    \"batter_cinnamon\",\n",
    "]\n",
    "pitcher_params = [\n",
    "    \"pitcher_buoyancy\",\n",
    "    \"pitcher_divinity\",\n",
    "    \"pitcher_martyrdom\",\n",
    "    \"pitcher_moxie\",\n",
    "    \"pitcher_musclitude\",\n",
    "    \"pitcher_patheticism\",\n",
    "    \"pitcher_thwackability\",\n",
    "    \"pitcher_tragicness\",\n",
    "    \"pitcher_ruthlessness\",\n",
    "    \"pitcher_overpowerment\",\n",
    "    \"pitcher_unthwackability\",\n",
    "    \"pitcher_shakespearianism\",\n",
    "    \"pitcher_suppression\",\n",
    "    \"pitcher_coldness\",\n",
    "    \"pitcher_base_thirst\",\n",
    "    \"pitcher_continuation\",\n",
    "    \"pitcher_ground_friction\",\n",
    "    \"pitcher_indulgence\",\n",
    "    \"pitcher_laserlikeness\",\n",
    "    \"pitcher_anticapitalism\",\n",
    "    \"pitcher_chasiness\",\n",
    "    \"pitcher_omniscience\",\n",
    "    \"pitcher_tenaciousness\",\n",
    "    \"pitcher_watchfulness\",\n",
    "    \"pitcher_pressurization\",\n",
    "    \"pitcher_cinnamon\",\n",
    "]\n",
    "for attr in batter_params:\n",
    "    dfc[attr] = dfc[attr] * dfc[\"batter_mul\"]\n",
    "for attr in pitcher_params:\n",
    "    dfc[attr] = dfc[attr] * dfc[\"pitcher_mul\"]\n",
    "\n",
    "dfc.loc[dfc[\"pitcher_mods\"].astype(str).str.contains(\"SCATTERED\"), \"pitcher_vibes\"] = 0\n",
    "dfc.loc[dfc[\"batter_mods\"].astype(str).str.contains(\"SCATTERED\"), \"batter_vibes\"] = 0\n",
    "\n",
    "# dfc = dfc[dfc[\"batter_mul\"] == 1]\n",
    "# dfc = dfc[dfc[\"pitcher_mul\"] == 1]\n",
    "len(dfc)"
   ]
  },
  {
   "cell_type": "code",
   "execution_count": 4,
   "metadata": {},
   "outputs": [
    {
     "name": "stdout",
     "output_type": "stream",
     "text": [
      "49055\n",
      "11200\n"
     ]
    },
    {
     "data": {
      "text/plain": [
       "array([[49039,    16],\n",
       "       [    2, 11198]])"
      ]
     },
     "execution_count": 4,
     "metadata": {},
     "output_type": "execute_result"
    }
   ],
   "source": [
    "from sklearn.preprocessing import StandardScaler\n",
    "from sklearn.metrics import confusion_matrix\n",
    "from sklearn.metrics import classification_report\n",
    "from sklearn import svm, linear_model\n",
    "\n",
    "dfc[\"div_vibes\"] = dfc[\"batter_divinity\"] * (1 + 0.2 * dfc[\"batter_vibes\"])\n",
    "dfc[\"opw_vibes\"] = dfc[\"pitcher_overpowerment\"] * (1 + 0.2 * dfc[\"pitcher_vibes\"])\n",
    "dfc[\"cold_vibes\"] = dfc[\"pitcher_coldness\"] * (1 + 0.2 * dfc[\"pitcher_vibes\"])\n",
    "dfc[\"supp_vibes\"] = dfc[\"pitcher_suppression\"] * (1 + 0.2 * dfc[\"pitcher_vibes\"])\n",
    "\n",
    "dfc[\"opwtimesvibes\"] = dfc[\"pitcher_overpowerment\"] * dfc[\"pitcher_vibes\"]\n",
    "dfc[\"coldtimesvibes\"] = dfc[\"pitcher_coldness\"] * dfc[\"pitcher_vibes\"]\n",
    "dfc[\"divtimesvibes\"] = dfc[\"batter_divinity\"] * dfc[\"batter_vibes\"]\n",
    "\n",
    "X = dfc[\n",
    "    [\n",
    "        \"roll\",  #'batter_divinity', 'pitcher_overpowerment', 'pitcher_coldness',\n",
    "        \"div_vibes\",\n",
    "        \"opw_vibes\",\n",
    "        \"supp_vibes\",  # 'divtimesvibes', 'opwtimesvibes', 'coldtimesvibes',\n",
    "        \"ballpark_grandiosity\",\n",
    "        \"ballpark_fortification\",\n",
    "        \"ballpark_forwardness\",\n",
    "        \"ballpark_viscosity\",\n",
    "        \"ballpark_ominousness\",\n",
    "    ]\n",
    "].copy()\n",
    "y = dfc[\"passed\"]\n",
    "\n",
    "# X[\"roll\"] = X[\"roll\"] + 0.0725*X[\"opw_vibes\"] + 0.0075*X[\"supp_vibes\"] \\\n",
    "#     + 0.0725*X[\"ballpark_grandiosity\"] + 0.015*X[\"ballpark_viscosity\"] \\\n",
    "#     + 0.0375*X[\"ballpark_fortification\"] - 0.0375*X[\"ballpark_forwardness\"]# \\\n",
    "# #     + 0.015*X[\"ballpark_ominousness\"]\n",
    "# X = X.drop([\"opw_vibes\", \"ballpark_grandiosity\", \"ballpark_viscosity\", \"ballpark_fortification\", \"ballpark_forwardness\", \"supp_vibes\"], axis=1)\n",
    "\n",
    "\n",
    "sc = StandardScaler()\n",
    "X2 = sc.fit_transform(X)\n",
    "\n",
    "trainedsvm = svm.LinearSVC(dual=False, C=1e10, max_iter=10000, tol=1e-10).fit(X2, y)\n",
    "predictionsvm = trainedsvm.predict(X2)\n",
    "print(len(dfc[~dfc[\"passed\"]]))\n",
    "print(len(dfc[dfc[\"passed\"]]))\n",
    "confusion_matrix(y, predictionsvm)"
   ]
  },
  {
   "cell_type": "code",
   "execution_count": 5,
   "metadata": {},
   "outputs": [
    {
     "name": "stdout",
     "output_type": "stream",
     "text": [
      "[-0.16604892]\n"
     ]
    },
    {
     "data": {
      "text/plain": [
       "[(1.0, 'roll'),\n",
       " (-0.15983450312382838, 'div_vibes'),\n",
       " (0.07238324908619598, 'opw_vibes'),\n",
       " (0.0707065116886191, 'ballpark_grandiosity'),\n",
       " (-0.04174376034164531, 'ballpark_forwardness'),\n",
       " (0.03709542826939974, 'ballpark_fortification'),\n",
       " (0.014634944890149335, 'ballpark_viscosity'),\n",
       " (0.011065980937489298, 'ballpark_ominousness'),\n",
       " (0.00742414280776208, 'supp_vibes')]"
      ]
     },
     "execution_count": 5,
     "metadata": {},
     "output_type": "execute_result"
    }
   ],
   "source": [
    "coef = np.true_divide(trainedsvm.coef_, sc.scale_)\n",
    "coef_scaled = coef / coef[0, 0]\n",
    "coef_list = coef_scaled.tolist()[0]\n",
    "\n",
    "intercept = trainedsvm.intercept_ - np.dot(coef, sc.mean_)\n",
    "intercept_scaled = intercept / coef[0, 0]\n",
    "print(intercept_scaled)\n",
    "sorted(zip(coef_list, X.columns), key=lambda x: abs(x[0]), reverse=True)"
   ]
  },
  {
   "cell_type": "code",
   "execution_count": 6,
   "metadata": {},
   "outputs": [
    {
     "name": "stdout",
     "output_type": "stream",
     "text": [
      "[0.16604892]\n",
      "(0.15983450312382838, 'div_vibes')\n",
      "(-0.07238324908619598, 'opw_vibes')\n",
      "(-0.00742414280776208, 'supp_vibes')\n",
      "(-0.0707065116886191, 'ballpark_grandiosity')\n",
      "(-0.03709542826939974, 'ballpark_fortification')\n",
      "(0.04174376034164531, 'ballpark_forwardness')\n",
      "(-0.014634944890149335, 'ballpark_viscosity')\n",
      "(-0.011065980937489298, 'ballpark_ominousness')\n"
     ]
    }
   ],
   "source": [
    "dfc[\"threshold\"] = -intercept_scaled[0]\n",
    "print(-intercept_scaled)\n",
    "for pair in zip(-np.array(coef_list), X.columns):\n",
    "    if pair[1] != \"roll\":\n",
    "        print(pair)\n",
    "        if \"sq\" in pair[1]:\n",
    "            print(np.sqrt(pair[0]))\n",
    "        dfc[\"threshold\"] += pair[0] * dfc[pair[1]]\n",
    "\n",
    "dfc[\"ballpark_sum\"] = (\n",
    "    0.4 * (dfc[\"ballpark_grandiosity\"] - 0.5)\n",
    "    + 0.2 * (dfc[\"ballpark_fortification\"] - 0.5)\n",
    "    + 0.08 * (dfc[\"ballpark_viscosity\"] - 0.5)\n",
    "    + 0.08 * (dfc[\"ballpark_ominousness\"] - 0.5)\n",
    "    - 0.24 * (dfc[\"ballpark_forwardness\"] - 0.5)\n",
    ")\n",
    "\n",
    "opw = dfc[\"pitcher_overpowerment\"] * (1 + 0.2 * dfc[\"pitcher_vibes\"])\n",
    "supp = dfc[\"pitcher_suppression\"] * (1 + 0.2 * dfc[\"pitcher_vibes\"])\n",
    "dfc[\"opw_supp\"] = (10*opw + 1*supp)/11\n",
    "\n",
    "dfc[\"threshold\"] = (\n",
    "    0.12\n",
    "    + 0.16 * dfc[\"batter_divinity\"] * (1 + 0.2 * dfc[\"batter_vibes\"])\n",
    "    - 0.18 * dfc[\"ballpark_sum\"]\n",
    "    - 0.08 * dfc[\"opw_supp\"]\n",
    ")\n"
   ]
  },
  {
   "cell_type": "code",
   "execution_count": 7,
   "metadata": {},
   "outputs": [
    {
     "data": {
      "text/plain": [
       "<matplotlib.legend.Legend at 0x7fad99e2df40>"
      ]
     },
     "execution_count": 7,
     "metadata": {},
     "output_type": "execute_result"
    },
    {
     "data": {
      "image/png": "[encoded data removed]",
      "text/plain": [
       "<Figure size 720x432 with 1 Axes>"
      ]
     },
     "metadata": {
      "needs_background": "light"
     },
     "output_type": "display_data"
    }
   ],
   "source": [
    "x_val = \"threshold\"\n",
    "fig, ax = plt.subplots(1, figsize=(10, 6))\n",
    "ax.scatter(\n",
    "    dfc[~dfc[\"passed\"]][x_val],\n",
    "    dfc[~dfc[\"passed\"]][\"roll\"],\n",
    "    color=\"red\",\n",
    "    label=\"Base hit\",\n",
    "    marker=CARETRIGHTBASE,\n",
    ")\n",
    "ax.scatter(\n",
    "    dfc[dfc[\"passed\"]][x_val],\n",
    "    dfc[dfc[\"passed\"]][\"roll\"],\n",
    "    color=\"blue\",\n",
    "    label=\"Home run\",\n",
    "    marker=CARETLEFTBASE,\n",
    ")\n",
    "ax.plot([0, 1], [0, 1])\n",
    "ax.set_xlabel(x_val)\n",
    "ax.set_ylabel(\"roll\")\n",
    "ax.set_title(\"HRs\")\n",
    "ax.set_xlim([0.0, 0.5])\n",
    "ax.set_ylim([0.0, 0.5])\n",
    "ax.legend()"
   ]
  },
  {
   "cell_type": "code",
   "execution_count": 8,
   "metadata": {},
   "outputs": [
    {
     "name": "stdout",
     "output_type": "stream",
     "text": [
      "2\n"
     ]
    },
    {
     "data": {
      "text/html": [
       "<div>\n",
       "<style scoped>\n",
       "    .dataframe tbody tr th:only-of-type {\n",
       "        vertical-align: middle;\n",
       "    }\n",
       "\n",
       "    .dataframe tbody tr th {\n",
       "        vertical-align: top;\n",
       "    }\n",
       "\n",
       "    .dataframe thead th {\n",
       "        text-align: right;\n",
       "    }\n",
       "</style>\n",
       "<table border=\"1\" class=\"dataframe\">\n",
       "  <thead>\n",
       "    <tr style=\"text-align: right;\">\n",
       "      <th></th>\n",
       "      <th>offset</th>\n",
       "      <th>weather</th>\n",
       "      <th>event_type</th>\n",
       "      <th>roll</th>\n",
       "      <th>threshold</th>\n",
       "      <th>div_vibes</th>\n",
       "      <th>opw_vibes</th>\n",
       "      <th>supp_vibes</th>\n",
       "      <th>baserunner_count</th>\n",
       "      <th>batter_name</th>\n",
       "      <th>pitcher_name</th>\n",
       "      <th>batter_mods</th>\n",
       "      <th>pitcher_mods</th>\n",
       "      <th>batter_mul</th>\n",
       "      <th>pitcher_mul</th>\n",
       "      <th>batting_team_mods</th>\n",
       "      <th>pitching_team_mods</th>\n",
       "      <th>day</th>\n",
       "      <th>game_id</th>\n",
       "      <th>play_count</th>\n",
       "    </tr>\n",
       "  </thead>\n",
       "  <tbody>\n",
       "    <tr>\n",
       "      <th>22242</th>\n",
       "      <td>-0.005707</td>\n",
       "      <td>Weather.ECLIPSE</td>\n",
       "      <td>BaseHit</td>\n",
       "      <td>0.176848</td>\n",
       "      <td>0.182555</td>\n",
       "      <td>0.711890</td>\n",
       "      <td>0.558117</td>\n",
       "      <td>0.387174</td>\n",
       "      <td>0</td>\n",
       "      <td>Sutton Dreamy</td>\n",
       "      <td>Bontgomery Mullock</td>\n",
       "      <td>FLINCH</td>\n",
       "      <td>FRIEND_OF_CROWS;WILD</td>\n",
       "      <td>1.51</td>\n",
       "      <td>1.0</td>\n",
       "      <td>SINKING_SHIP;PARTY_TIME</td>\n",
       "      <td>LOVE</td>\n",
       "      <td>92</td>\n",
       "      <td>0f41944a-07cd-45f8-a9b0-b1b86e3bd942</td>\n",
       "      <td>315</td>\n",
       "    </tr>\n",
       "    <tr>\n",
       "      <th>53607</th>\n",
       "      <td>0.009016</td>\n",
       "      <td>Weather.PEANUTS</td>\n",
       "      <td>HomeRun</td>\n",
       "      <td>0.078978</td>\n",
       "      <td>0.069963</td>\n",
       "      <td>0.257933</td>\n",
       "      <td>1.063585</td>\n",
       "      <td>0.657244</td>\n",
       "      <td>0</td>\n",
       "      <td>Igneus Delacruz</td>\n",
       "      <td>Flattery McKinley</td>\n",
       "      <td>ALTERNATE;CHUNKY</td>\n",
       "      <td>ALTERNATE</td>\n",
       "      <td>1.00</td>\n",
       "      <td>1.0</td>\n",
       "      <td>BASE_INSTINCTS</td>\n",
       "      <td>UNDERSEA;PARTY_TIME</td>\n",
       "      <td>95</td>\n",
       "      <td>0f878c0e-4c9c-4600-89c5-b01b7bb14b56</td>\n",
       "      <td>190</td>\n",
       "    </tr>\n",
       "  </tbody>\n",
       "</table>\n",
       "</div>"
      ],
      "text/plain": [
       "         offset          weather event_type      roll  threshold  div_vibes  \\\n",
       "22242 -0.005707  Weather.ECLIPSE    BaseHit  0.176848   0.182555   0.711890   \n",
       "53607  0.009016  Weather.PEANUTS    HomeRun  0.078978   0.069963   0.257933   \n",
       "\n",
       "       opw_vibes  supp_vibes  baserunner_count      batter_name  \\\n",
       "22242   0.558117    0.387174                 0    Sutton Dreamy   \n",
       "53607   1.063585    0.657244                 0  Igneus Delacruz   \n",
       "\n",
       "             pitcher_name       batter_mods          pitcher_mods  batter_mul  \\\n",
       "22242  Bontgomery Mullock            FLINCH  FRIEND_OF_CROWS;WILD        1.51   \n",
       "53607   Flattery McKinley  ALTERNATE;CHUNKY             ALTERNATE        1.00   \n",
       "\n",
       "       pitcher_mul        batting_team_mods   pitching_team_mods  day  \\\n",
       "22242          1.0  SINKING_SHIP;PARTY_TIME                 LOVE   92   \n",
       "53607          1.0           BASE_INSTINCTS  UNDERSEA;PARTY_TIME   95   \n",
       "\n",
       "                                    game_id  play_count  \n",
       "22242  0f41944a-07cd-45f8-a9b0-b1b86e3bd942         315  \n",
       "53607  0f878c0e-4c9c-4600-89c5-b01b7bb14b56         190  "
      ]
     },
     "execution_count": 8,
     "metadata": {},
     "output_type": "execute_result"
    },
    {
     "data": {
      "image/png": "[encoded data removed]",
      "text/plain": [
       "<Figure size 432x288 with 1 Axes>"
      ]
     },
     "metadata": {
      "needs_background": "light"
     },
     "output_type": "display_data"
    }
   ],
   "source": [
    "dfc[\"offset\"] = dfc[\"roll\"] - dfc[\"threshold\"]\n",
    "outliers = dfc[(dfc[\"passed\"] & (dfc[\"offset\"] > 0)) | (~dfc[\"passed\"] & (dfc[\"offset\"] < 0))]\n",
    "\n",
    "fig, ax = plt.subplots(1)\n",
    "x_val = \"threshold\"\n",
    "y_val = \"offset\"\n",
    "# ax.scatter(outliers[~outliers['passed']][x_val], outliers[~outliers['passed']][y_val], color=\"red\", label=\"Base hit\")\n",
    "# ax.scatter(outliers[outliers['passed']][x_val], outliers[outliers['passed']][y_val], color=\"blue\", label=\"Home run\")\n",
    "ax.scatter(\n",
    "    outliers[~outliers[\"passed\"]][x_val],\n",
    "    outliers[~outliers[\"passed\"]][y_val],\n",
    "    color=\"red\",\n",
    "    label=\"Base hit\",\n",
    ")\n",
    "ax.scatter(outliers[outliers[\"passed\"]][x_val], outliers[outliers[\"passed\"]][y_val], color=\"blue\", label=\"Home run\")\n",
    "ax.set_xlabel(x_val)\n",
    "ax.set_ylabel(y_val)\n",
    "ax.legend()\n",
    "print(len(outliers))\n",
    "table = outliers\n",
    "# ax.set_yscale(\"log\")\n",
    "# ax.set_ylim(-0.5e-2, 0.5e-2)\n",
    "ax.grid()\n",
    "# fig.savefig(\"../figures/hr_fit_offsets_1.png\", facecolor='white')\n",
    "table[\n",
    "    [\n",
    "        \"offset\",\n",
    "        \"weather\",\n",
    "        \"event_type\",\n",
    "        \"roll\",\n",
    "        \"threshold\",\n",
    "        \"div_vibes\",\n",
    "        \"opw_vibes\",\n",
    "        \"supp_vibes\",\n",
    "        \"baserunner_count\",\n",
    "        \"batter_name\",\n",
    "        \"pitcher_name\",\n",
    "        \"batter_mods\",\n",
    "        \"pitcher_mods\",\n",
    "        \"batter_mul\",\n",
    "        \"pitcher_mul\",\n",
    "        \"batting_team_mods\",\n",
    "        \"pitching_team_mods\",\n",
    "        \"day\",\n",
    "        \"game_id\",\n",
    "        \"play_count\",\n",
    "    ]\n",
    "].sort_values(\"offset\")"
   ]
  },
  {
   "cell_type": "code",
   "execution_count": 9,
   "metadata": {},
   "outputs": [
    {
     "name": "stdout",
     "output_type": "stream",
     "text": [
      "0.4166500940357283\n",
      "0.019338279830648\n"
     ]
    }
   ],
   "source": [
    "print(dfc[dfc[\"passed\"]][\"roll\"].max())\n",
    "print(dfc[~dfc[\"passed\"]][\"roll\"].min())"
   ]
  },
  {
   "cell_type": "code",
   "execution_count": 10,
   "metadata": {},
   "outputs": [
    {
     "data": {
      "text/plain": [
       "pitching_team_mods\n",
       "LOVE                   1\n",
       "UNDERSEA;PARTY_TIME    1\n",
       "dtype: int64"
      ]
     },
     "execution_count": 10,
     "metadata": {},
     "output_type": "execute_result"
    }
   ],
   "source": [
    "table.groupby(\"pitching_team_mods\").size()"
   ]
  },
  {
   "cell_type": "code",
   "execution_count": 11,
   "metadata": {},
   "outputs": [
    {
     "data": {
      "text/plain": [
       "offset                                            0.719026\n",
       "weather                                   Weather.FLOODING\n",
       "event_type                                         BaseHit\n",
       "roll                                               0.94401\n",
       "threshold                                         0.224984\n",
       "div_vibes                                         1.121897\n",
       "opw_vibes                                         0.732422\n",
       "supp_vibes                                        0.658526\n",
       "baserunner_count                                         2\n",
       "batter_vibes                                     -0.249415\n",
       "pitcher_vibes                                     -0.47284\n",
       "batter_divinity                                   1.180799\n",
       "batter_name                                Thomas Dracaena\n",
       "pitcher_name                         Fitzgerald Wanderlust\n",
       "batter_mods                                     MAXIMALIST\n",
       "pitcher_mods                                          WILD\n",
       "batter_mul                                             1.0\n",
       "pitcher_mul                                            1.0\n",
       "batting_team_mods                                BIRD_SEED\n",
       "pitching_team_mods                               TRAVELING\n",
       "day                                                     36\n",
       "game_id               cb74ba26-3cf5-4823-a415-a77d90957832\n",
       "play_count                                             182\n",
       "Name: 7148, dtype: object"
      ]
     },
     "execution_count": 11,
     "metadata": {},
     "output_type": "execute_result"
    }
   ],
   "source": [
    "dfc.loc[\n",
    "    7148,\n",
    "    [\n",
    "        \"offset\",\n",
    "        \"weather\",\n",
    "        \"event_type\",\n",
    "        \"roll\",\n",
    "        \"threshold\",\n",
    "        \"div_vibes\",\n",
    "        \"opw_vibes\",\n",
    "        \"supp_vibes\",\n",
    "        \"baserunner_count\",\n",
    "        \"batter_vibes\",\n",
    "        \"pitcher_vibes\",\n",
    "        \"batter_divinity\",\n",
    "        \"batter_name\",\n",
    "        \"pitcher_name\",\n",
    "        \"batter_mods\",\n",
    "        \"pitcher_mods\",\n",
    "        \"batter_mul\",\n",
    "        \"pitcher_mul\",\n",
    "        \"batting_team_mods\",\n",
    "        \"pitching_team_mods\",\n",
    "        \"day\",\n",
    "        \"game_id\",\n",
    "        \"play_count\",\n",
    "    ],\n",
    "]"
   ]
  },
  {
   "cell_type": "code",
   "execution_count": null,
   "metadata": {},
   "outputs": [],
   "source": []
  },
  {
   "cell_type": "code",
   "execution_count": null,
   "metadata": {},
   "outputs": [],
   "source": []
  },
  {
   "cell_type": "code",
   "execution_count": null,
   "metadata": {},
   "outputs": [],
   "source": []
  },
  {
   "cell_type": "code",
   "execution_count": null,
   "metadata": {},
   "outputs": [],
   "source": []
  }
 ],
 "metadata": {
  "kernelspec": {
   "display_name": "Python 3 (ipykernel)",
   "language": "python",
   "name": "python3"
  },
  "language_info": {
   "codemirror_mode": {
    "name": "ipython",
    "version": 3
   },
   "file_extension": ".py",
   "mimetype": "text/x-python",
   "name": "python",
   "nbconvert_exporter": "python",
   "pygments_lexer": "ipython3",
   "version": "3.9.12"
  },
  "toc-autonumbering": false,
  "toc-showmarkdowntxt": false,
  "vscode": {
   "interpreter": {
    "hash": "55c90e3f6875ff0202586c47fc7803fe16ed38f621983635a34e412a80a71124"
   }
  }
 },
 "nbformat": 4,
 "nbformat_minor": 4
}
