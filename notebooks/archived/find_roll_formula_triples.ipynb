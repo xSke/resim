{
 "cells": [
  {
   "cell_type": "code",
   "execution_count": 1,
   "metadata": {
    "collapsed": false,
    "jupyter": {
     "outputs_hidden": false
    },
    "pycharm": {
     "name": "#%%\n"
    }
   },
   "outputs": [],
   "source": [
    "import glob\n",
    "\n",
    "import pandas as pd\n",
    "import matplotlib.pyplot as plt\n",
    "import numpy as np\n",
    "from matplotlib.markers import CARETLEFTBASE, CARETRIGHTBASE\n",
    "\n",
    "all_files = glob.glob(\"../roll_data/*-triples.csv\")\n",
    "df = pd.concat((pd.read_csv(f) for f in all_files), ignore_index=True)\n",
    "\n",
    "# select season (zero indexed)\n",
    "season = 14\n",
    "df = df[df[\"season\"] == season]"
   ]
  },
  {
   "cell_type": "markdown",
   "metadata": {},
   "source": [
    "# Triples Analysis\n",
    "\n",
    "Works *roughly* with `defense_average_chasiness` as a factor but has many problems. Most likely uses a specific fielder, whose attributes we need to be able to pull in. Fun!\n",
    "\n",
    "Seems to be different between S14 and S15: several ballpark factors change sign in S15, and shrink in importance. as an example, the current fit for S14 gives:\n",
    "```\n",
    "[0.01818613]\n",
    "(0.19843638427639265, 'gf_vibes')\n",
    "(-0.043779832725212346, 'op_vibes')\n",
    "(-0.04539174061951756, 'defense_avg_chasiness')\n",
    "(0.009948209917303216, 'ballpark_ominousness')\n",
    "(-0.016469063710629027, 'ballpark_viscosity')\n",
    "(0.013901501986086438, 'ballpark_forwardness')\n",
    "(0.0029566536469647843, 'ballpark_elongation')\n",
    "(0.05040983250181947, 'ballpark_grandiosity')\n",
    "```\n",
    "while for S15 it gives:\n",
    "```\n",
    "[0.02096347]\n",
    "(0.1949570430812243, 'gf_vibes')\n",
    "(-0.04440774308462537, 'op_vibes')\n",
    "(-0.0444106526951429, 'defense_avg_chasiness')\n",
    "(-0.004740179730049955, 'ballpark_ominousness')\n",
    "(0.0029113436580619745, 'ballpark_viscosity')\n",
    "(0.03476008958255702, 'ballpark_forwardness')\n",
    "(-0.0008334860432481537, 'ballpark_elongation')\n",
    "(0.02678564950791311, 'ballpark_grandiosity')\n",
    "```\n",
    "\n",
    "Viscosity, ominousness, and elongation all changed sign here, going from \"the expected direction\" to the opposite direction. This probably means they stop being included in S15. Leaving them out of the fit gives:\n",
    "```\n",
    "[0.0198066]\n",
    "(0.19500371831614302, 'gf_vibes')\n",
    "(-0.04439155329748978, 'op_vibes')\n",
    "(-0.04442102341834728, 'defense_avg_chasiness')\n",
    "(0.032556276647441776, 'ballpark_forwardness')\n",
    "(0.028276137687796202, 'ballpark_grandiosity')\n",
    "```"
   ]
  },
  {
   "cell_type": "code",
   "execution_count": 2,
   "metadata": {},
   "outputs": [],
   "source": [
    "def calc_vibes(df, prefix):\n",
    "    buoy = df[prefix + \"_buoyancy\"]  # * df[prefix + \"_mul\"]\n",
    "    press = df[prefix + \"_pressurization\"]  # * df[prefix + \"_mul\"]\n",
    "    cinn = df[prefix + \"_cinnamon\"]  # * df[prefix + \"_mul\"]\n",
    "\n",
    "    freq = 6 + (buoy * 10).round()\n",
    "    phase = math.pi * ((2 / freq) * dfc[\"day\"] + 0.5)\n",
    "    vibes = 0.5 * (press + cinn) * np.sin(phase) - (0.5 * press) + (0.5 * cinn)\n",
    "    return vibes\n",
    "\n",
    "\n",
    "def get_pitcher_mul(row):\n",
    "    bm = str(row[\"batter_mods\"])\n",
    "    pm = str(row[\"pitcher_mods\"])\n",
    "    ptm = str(row[\"pitching_team_mods\"])\n",
    "    mul = 1\n",
    "    if \"OVERPERFORMING\" in pm:\n",
    "        mul += 0.2\n",
    "    if \"OVERPERFORMING\" in ptm:\n",
    "        mul += 0.2\n",
    "    if \"UNDERPERFORMING\" in pm:\n",
    "        mul -= 0.2\n",
    "    if \"UNDERPERFORMING\" in ptm:\n",
    "        mul -= 0.2\n",
    "    if \"TRAVELING\" in ptm:\n",
    "        pass  # traveling just doesn't do anything on pitchers?\n",
    "    #         if not row[\"top_of_inning\"]:\n",
    "    #             mul += 0.05\n",
    "    if \"HIGH_PRESSURE\" in ptm:\n",
    "        # i messed up baserunner_count lol, so it's a string\n",
    "        if row[\"weather\"] == 18 and str(row[\"baserunner_count\"]) != \"[]\":\n",
    "            mul += 0.25\n",
    "    if \"GROWTH\" in ptm:\n",
    "        #         mul += min(0.05, 0.05 * (row[\"day\"] / 99))\n",
    "        pass  # growth doesn't do anything on pitchers either\n",
    "    if \"SINKING_SHIP\" in ptm:\n",
    "        mul += (14 - row[\"pitching_team_roster_size\"]) * 0.01\n",
    "    if \"AFFINITY_FOR_CROWS\" in ptm and row[\"weather\"] == 11:\n",
    "        mul += 0.5\n",
    "    return mul\n",
    "\n",
    "\n",
    "def get_batter_mul(row):\n",
    "    bm = str(row[\"batter_mods\"])\n",
    "    btm = str(row[\"batting_team_mods\"])\n",
    "    ptm = str(row[\"pitching_team_mods\"])\n",
    "    mul = 1\n",
    "    if \"OVERPERFORMING\" in bm:\n",
    "        mul += 0.2\n",
    "    if \"OVERPERFORMING\" in btm:\n",
    "        mul += 0.2\n",
    "    if \"UNDERPERFORMING\" in bm:\n",
    "        mul -= 0.2\n",
    "    if \"UNDERPERFORMING\" in btm:\n",
    "        mul -= 0.2\n",
    "    if \"TRAVELING\" in btm:\n",
    "        if row[\"top_of_inning\"]:\n",
    "            # this doesn't seem to do anything if it's here or not here\n",
    "            mul += 0.05\n",
    "    if \"GROWTH\" in btm:\n",
    "        mul += min(0.05, 0.05 * (row[\"day\"] / 99))\n",
    "    #         pass\n",
    "    if \"HIGH_PRESSURE\" in btm:\n",
    "        if row[\"weather\"] == 18 and str(row[\"baserunner_count\"]) != \"[]\":\n",
    "            mul += 0.25\n",
    "    if \"SINKING_SHIP\" in btm:\n",
    "        mul += (14 - row[\"batting_team_roster_size\"]) * 0.01\n",
    "    if \"AFFINITY_FOR_CROWS\" in btm and row[\"weather\"] == 11:\n",
    "        mul += 0.5\n",
    "    if \"CHUNKY\" in bm and row[\"weather\"] == 10:\n",
    "        # todo: handle, in peanuts weather\n",
    "        #         pass\n",
    "        mul += 1.0\n",
    "    if \"SMOOTH\" in bm and row[\"weather\"] == 10:\n",
    "        # todo: handle, in peanuts weather\n",
    "        pass\n",
    "    if \"ON_FIRE\" in bm:\n",
    "        # todo: handle\n",
    "        # test \"+125% multiplier\"\n",
    "        mul += 1.25\n",
    "    #         pass\n",
    "    return mul"
   ]
  },
  {
   "cell_type": "code",
   "execution_count": 3,
   "metadata": {
    "collapsed": false,
    "jupyter": {
     "outputs_hidden": false
    },
    "pycharm": {
     "name": "#%%\n"
    }
   },
   "outputs": [],
   "source": [
    "df[\"batter_mul\"] = df.apply(get_batter_mul, axis=1)\n",
    "df[\"pitcher_mul\"] = df.apply(get_pitcher_mul, axis=1)\n",
    "\n",
    "df[\"gf_times_batter_vibes\"] = df[\"batter_ground_friction\"] * df[\"batter_vibes\"]\n",
    "df[\"op_times_pitcher_vibes\"] = df[\"pitcher_overpowerment\"] * df[\"pitcher_vibes\"]\n",
    "\n",
    "df[\"gf_scaled\"] = df[\"batter_ground_friction\"] * df[\"batter_mul\"]\n",
    "df[\"op_scaled\"] = df[\"pitcher_overpowerment\"] * df[\"pitcher_mul\"]\n",
    "\n",
    "\n",
    "df[\"gf_vibes\"] = df[\"gf_scaled\"] * (1 + 0.2 * df[\"batter_vibes\"])\n",
    "df[\"op_vibes\"] = df[\"op_scaled\"] * (1 + 0.2 * df[\"pitcher_vibes\"])\n",
    "\n",
    "dfc = df.copy()\n",
    "\n",
    "dfc = dfc[(dfc[\"pitcher_mul\"] == 1) & (dfc[\"batter_mul\"] == 1)]\n",
    "# dfc = dfc[(dfc['pitcher_vibes'].abs() < 0.2) & (dfc['batter_vibes'].abs() < 0.2)]"
   ]
  },
  {
   "cell_type": "code",
   "execution_count": 4,
   "metadata": {
    "collapsed": false,
    "jupyter": {
     "outputs_hidden": false
    },
    "pycharm": {
     "name": "#%%\n"
    }
   },
   "outputs": [],
   "source": [
    "# X = df[['roll', 'batter_ground_friction', 'pitcher_overpowerment', 'defense_avg_chasiness',\n",
    "#         'ballpark_ominousness', 'ballpark_viscosity', 'ballpark_forwardness',\n",
    "#         'batter_vibes', 'pitcher_vibes', 'gf_times_batter_vibes', 'op_times_pitcher_vibes']].copy()\n",
    "\n",
    "# season 14 set? (with the avg chasiness which i suspect is wrong)\n",
    "X = dfc[\n",
    "    [\n",
    "        \"roll\",\n",
    "        \"gf_vibes\",\n",
    "        \"op_vibes\",\n",
    "        \"defense_avg_chasiness\",\n",
    "        \"ballpark_ominousness\",\n",
    "        \"ballpark_viscosity\",\n",
    "        \"ballpark_forwardness\",\n",
    "        \"ballpark_elongation\",\n",
    "        \"ballpark_grandiosity\",\n",
    "    ]\n",
    "].copy()\n",
    "\n",
    "# season 15 set? (with the avg chasiness which i suspect is wrong)\n",
    "X = dfc[\n",
    "    [\n",
    "        \"roll\",\n",
    "        \"gf_vibes\",\n",
    "        \"op_vibes\",\n",
    "        \"defense_avg_chasiness\",\n",
    "        \"ballpark_forwardness\",\n",
    "        \"ballpark_grandiosity\",\n",
    "    ]\n",
    "].copy()\n",
    "\n",
    "y = dfc[\"passed\"]"
   ]
  },
  {
   "cell_type": "code",
   "execution_count": 5,
   "metadata": {
    "collapsed": false,
    "jupyter": {
     "outputs_hidden": false
    },
    "pycharm": {
     "name": "#%%\n"
    }
   },
   "outputs": [
    {
     "name": "stdout",
     "output_type": "stream",
     "text": [
      "[[4410   32]\n",
      " [  37  588]]\n",
      "              precision    recall  f1-score   support\n",
      "\n",
      "       False       0.99      0.99      0.99      4442\n",
      "        True       0.95      0.94      0.94       625\n",
      "\n",
      "    accuracy                           0.99      5067\n",
      "   macro avg       0.97      0.97      0.97      5067\n",
      "weighted avg       0.99      0.99      0.99      5067\n",
      "\n",
      "0.9863824748371818\n"
     ]
    }
   ],
   "source": [
    "from sklearn.metrics import confusion_matrix\n",
    "from sklearn.metrics import classification_report\n",
    "from sklearn import svm\n",
    "from sklearn.preprocessing import StandardScaler\n",
    "\n",
    "sc = StandardScaler()\n",
    "X2 = sc.fit_transform(X)\n",
    "trainedsvm = svm.LinearSVC(dual=False, max_iter=100000, C=10000, tol=1e-6).fit(X2, y)\n",
    "predictionsvm = trainedsvm.predict(X2)\n",
    "print(confusion_matrix(y, predictionsvm))\n",
    "print(classification_report(y, predictionsvm))\n",
    "print(trainedsvm.score(X2, y))"
   ]
  },
  {
   "cell_type": "code",
   "execution_count": 6,
   "metadata": {},
   "outputs": [
    {
     "name": "stdout",
     "output_type": "stream",
     "text": [
      "[-0.0198066]\n"
     ]
    },
    {
     "data": {
      "text/plain": [
       "[(1.0, 'roll'),\n",
       " (-0.19500371831614302, 'gf_vibes'),\n",
       " (0.04442102341834728, 'defense_avg_chasiness'),\n",
       " (0.04439155329748978, 'op_vibes'),\n",
       " (-0.032556276647441776, 'ballpark_forwardness'),\n",
       " (-0.028276137687796202, 'ballpark_grandiosity')]"
      ]
     },
     "execution_count": 6,
     "metadata": {},
     "output_type": "execute_result"
    }
   ],
   "source": [
    "coef = np.true_divide(trainedsvm.coef_, sc.scale_)\n",
    "coef_scaled = coef / coef[0, 0]\n",
    "coef_list = coef_scaled.tolist()[0]\n",
    "\n",
    "intercept = trainedsvm.intercept_ - np.dot(coef, sc.mean_)\n",
    "intercept_scaled = intercept / coef[0, 0]\n",
    "\n",
    "print(intercept_scaled)\n",
    "sorted(zip(coef_list, X.columns), key=lambda x: abs(x[0]), reverse=True)"
   ]
  },
  {
   "cell_type": "code",
   "execution_count": 7,
   "metadata": {},
   "outputs": [
    {
     "name": "stdout",
     "output_type": "stream",
     "text": [
      "[0.0198066]\n",
      "(0.19500371831614302, 'gf_vibes')\n",
      "(-0.04439155329748978, 'op_vibes')\n",
      "(-0.04442102341834728, 'defense_avg_chasiness')\n",
      "(0.032556276647441776, 'ballpark_forwardness')\n",
      "(0.028276137687796202, 'ballpark_grandiosity')\n"
     ]
    }
   ],
   "source": [
    "dfc[\"threshold\"] = -intercept_scaled[0]\n",
    "print(-intercept_scaled)\n",
    "for pair in zip(-np.array(coef_list), X.columns):\n",
    "    if pair[1] != \"roll\":\n",
    "        print(pair)\n",
    "        dfc[\"threshold\"] += pair[0] * dfc[pair[1]]"
   ]
  },
  {
   "cell_type": "code",
   "execution_count": 8,
   "metadata": {
    "collapsed": false,
    "jupyter": {
     "outputs_hidden": false
    },
    "pycharm": {
     "name": "#%%\n"
    }
   },
   "outputs": [
    {
     "data": {
      "text/plain": [
       "<matplotlib.legend.Legend at 0x7f96d0a3fd30>"
      ]
     },
     "execution_count": 8,
     "metadata": {},
     "output_type": "execute_result"
    },
    {
     "data": {
      "image/png": "[encoded data removed]",
      "text/plain": [
       "<Figure size 432x288 with 1 Axes>"
      ]
     },
     "metadata": {
      "needs_background": "light"
     },
     "output_type": "display_data"
    }
   ],
   "source": [
    "# df['flinch'] = (df[\"batter_mods\"].astype(str).str.contains(\"FLINCH\") & (df[\"strike_count\"] == 0)).astype(int)\n",
    "# df[\"threshold\"] = 0.082508 + df[\"batter_ground_friction\"] * 0.2 - df[\"pitcher_overpowerment\"] * 0.045 - df[\"ballpark_ominousness\"] * 0.4 - df[\"ballpark_viscosity\"] * 0.025 - df[\"ballpark_forwardness\"] * 0.025\n",
    "\n",
    "x_val = \"threshold\"\n",
    "# x_val = \"svc\"\n",
    "fig, ax = plt.subplots(1)\n",
    "ax.scatter(\n",
    "    dfc[~dfc[\"passed\"]][x_val],\n",
    "    dfc[~dfc[\"passed\"]][\"roll\"],\n",
    "    color=\"red\",\n",
    "    label=\"Not triple\",\n",
    "    marker=CARETLEFTBASE,\n",
    ")\n",
    "ax.scatter(\n",
    "    dfc[dfc[\"passed\"]][x_val],\n",
    "    dfc[dfc[\"passed\"]][\"roll\"],\n",
    "    color=\"blue\",\n",
    "    label=\"Triple\",\n",
    "    marker=CARETRIGHTBASE,\n",
    ")\n",
    "ax.set_xlabel(x_val)\n",
    "ax.set_ylabel(\"roll\")\n",
    "# ax.set_xlim(0.48, 0.52)\n",
    "\n",
    "# min_x, max_x = ax.get_xlim()\n",
    "# xx = np.linspace(min_x - 0.1, max_x + 0.1)\n",
    "# yy = xx * 0.35 + 0.35\n",
    "# ax.plot(xx, yy)\n",
    "\n",
    "ax.legend()\n",
    "\n",
    "# fig.savefig(\"../figures/\"+x_val+\".png\", facecolor='white')\n",
    "# endpoints = np.array(ax.get_xlim())\n",
    "# ax.plot(endpoints, 0.35 + 0.35 * endpoints)"
   ]
  },
  {
   "cell_type": "code",
   "execution_count": 9,
   "metadata": {
    "collapsed": false,
    "jupyter": {
     "outputs_hidden": false
    },
    "pycharm": {
     "name": "#%%\n"
    }
   },
   "outputs": [
    {
     "name": "stdout",
     "output_type": "stream",
     "text": [
      "69\n"
     ]
    },
    {
     "data": {
      "text/plain": [
       "<matplotlib.legend.Legend at 0x7f96a090eca0>"
      ]
     },
     "execution_count": 9,
     "metadata": {},
     "output_type": "execute_result"
    },
    {
     "data": {
      "image/png": "[encoded data removed]",
      "text/plain": [
       "<Figure size 432x288 with 1 Axes>"
      ]
     },
     "metadata": {
      "needs_background": "light"
     },
     "output_type": "display_data"
    }
   ],
   "source": [
    "dfc[\"offset\"] = dfc[\"roll\"] - dfc[\"threshold\"]\n",
    "\n",
    "outliers = dfc[(dfc[\"passed\"] & (dfc[\"offset\"] > 0)) | (~dfc[\"passed\"] & (dfc[\"offset\"] < 0))]\n",
    "print(outliers.shape[0])\n",
    "\n",
    "fig, ax = plt.subplots(1)\n",
    "# fig.set_size_inches(10, 10)\n",
    "x_val = \"threshold\"\n",
    "ax.scatter(\n",
    "    outliers[~outliers[\"passed\"]][x_val],\n",
    "    outliers[~outliers[\"passed\"]][\"offset\"],\n",
    "    color=\"red\",\n",
    "    label=\"Balls\",\n",
    ")\n",
    "ax.scatter(\n",
    "    outliers[outliers[\"passed\"]][x_val],\n",
    "    outliers[outliers[\"passed\"]][\"offset\"],\n",
    "    color=\"blue\",\n",
    "    label=\"Strikes\",\n",
    ")\n",
    "ax.set_xlabel(x_val)\n",
    "ax.set_ylabel(\"roll\")\n",
    "ax.legend()"
   ]
  },
  {
   "cell_type": "code",
   "execution_count": 10,
   "metadata": {
    "collapsed": false,
    "jupyter": {
     "outputs_hidden": false
    },
    "pycharm": {
     "name": "#%%\n"
    }
   },
   "outputs": [
    {
     "data": {
      "text/html": [
       "<div>\n",
       "<style scoped>\n",
       "    .dataframe tbody tr th:only-of-type {\n",
       "        vertical-align: middle;\n",
       "    }\n",
       "\n",
       "    .dataframe tbody tr th {\n",
       "        vertical-align: top;\n",
       "    }\n",
       "\n",
       "    .dataframe thead th {\n",
       "        text-align: right;\n",
       "    }\n",
       "</style>\n",
       "<table border=\"1\" class=\"dataframe\">\n",
       "  <thead>\n",
       "    <tr style=\"text-align: right;\">\n",
       "      <th></th>\n",
       "      <th>event_type</th>\n",
       "      <th>roll</th>\n",
       "      <th>threshold</th>\n",
       "      <th>offset</th>\n",
       "      <th>gf_vibes</th>\n",
       "      <th>op_vibes</th>\n",
       "      <th>batter_vibes</th>\n",
       "      <th>pitcher_vibes</th>\n",
       "      <th>batter_mul</th>\n",
       "      <th>pitcher_mul</th>\n",
       "      <th>...</th>\n",
       "      <th>pitcher_name</th>\n",
       "      <th>game_id</th>\n",
       "      <th>play_count</th>\n",
       "      <th>batter_mods</th>\n",
       "      <th>pitcher_mods</th>\n",
       "      <th>batting_team_mods</th>\n",
       "      <th>pitching_team_mods</th>\n",
       "      <th>day</th>\n",
       "      <th>game_id</th>\n",
       "      <th>play_count</th>\n",
       "    </tr>\n",
       "  </thead>\n",
       "  <tbody>\n",
       "    <tr>\n",
       "      <th>10062</th>\n",
       "      <td>Hit3</td>\n",
       "      <td>0.110731</td>\n",
       "      <td>0.082968</td>\n",
       "      <td>0.027763</td>\n",
       "      <td>0.486811</td>\n",
       "      <td>0.837407</td>\n",
       "      <td>0.267787</td>\n",
       "      <td>-0.184211</td>\n",
       "      <td>1.0</td>\n",
       "      <td>1.0</td>\n",
       "      <td>...</td>\n",
       "      <td>Chambers Simmons</td>\n",
       "      <td>a4f1b9c9-241e-4ff0-a27f-1ccb4a497e97</td>\n",
       "      <td>208</td>\n",
       "      <td>SIPHON</td>\n",
       "      <td>NaN</td>\n",
       "      <td>BASE_INSTINCTS</td>\n",
       "      <td>GROWTH</td>\n",
       "      <td>84</td>\n",
       "      <td>a4f1b9c9-241e-4ff0-a27f-1ccb4a497e97</td>\n",
       "      <td>208</td>\n",
       "    </tr>\n",
       "    <tr>\n",
       "      <th>9404</th>\n",
       "      <td>Hit3</td>\n",
       "      <td>0.297254</td>\n",
       "      <td>0.271680</td>\n",
       "      <td>0.025574</td>\n",
       "      <td>1.386619</td>\n",
       "      <td>0.551053</td>\n",
       "      <td>-0.128620</td>\n",
       "      <td>-0.023166</td>\n",
       "      <td>1.0</td>\n",
       "      <td>1.0</td>\n",
       "      <td>...</td>\n",
       "      <td>Bontgomery Mullock</td>\n",
       "      <td>ec008c57-c374-45b9-a0ca-c4677a86e076</td>\n",
       "      <td>57</td>\n",
       "      <td>SIPHON;FIRE_EATER;FLINCH;DOUBLE_PAYOUTS;EGO2</td>\n",
       "      <td>FRIEND_OF_CROWS;WILD</td>\n",
       "      <td>CARCINIZATION;UNHOLEY</td>\n",
       "      <td>LOVE</td>\n",
       "      <td>80</td>\n",
       "      <td>ec008c57-c374-45b9-a0ca-c4677a86e076</td>\n",
       "      <td>57</td>\n",
       "    </tr>\n",
       "    <tr>\n",
       "      <th>9810</th>\n",
       "      <td>Hit3</td>\n",
       "      <td>0.203986</td>\n",
       "      <td>0.178761</td>\n",
       "      <td>0.025225</td>\n",
       "      <td>1.063891</td>\n",
       "      <td>1.032050</td>\n",
       "      <td>0.378893</td>\n",
       "      <td>-0.073928</td>\n",
       "      <td>1.0</td>\n",
       "      <td>1.0</td>\n",
       "      <td>...</td>\n",
       "      <td>Snyder Briggs</td>\n",
       "      <td>6d12517b-04e7-4344-a214-4bd642f234d5</td>\n",
       "      <td>270</td>\n",
       "      <td>NaN</td>\n",
       "      <td>ALTERNATE;WILD</td>\n",
       "      <td>AFFINITY_FOR_CROWS</td>\n",
       "      <td>TRAVELING</td>\n",
       "      <td>82</td>\n",
       "      <td>6d12517b-04e7-4344-a214-4bd642f234d5</td>\n",
       "      <td>270</td>\n",
       "    </tr>\n",
       "    <tr>\n",
       "      <th>9589</th>\n",
       "      <td>Hit3</td>\n",
       "      <td>0.175418</td>\n",
       "      <td>0.150593</td>\n",
       "      <td>0.024824</td>\n",
       "      <td>0.759421</td>\n",
       "      <td>0.568660</td>\n",
       "      <td>0.289188</td>\n",
       "      <td>-0.339857</td>\n",
       "      <td>1.0</td>\n",
       "      <td>1.0</td>\n",
       "      <td>...</td>\n",
       "      <td>Stevenson Heat</td>\n",
       "      <td>38c053a8-fd06-4df3-ac74-55dbcf84ea38</td>\n",
       "      <td>101</td>\n",
       "      <td>ALTERNATE</td>\n",
       "      <td>ALTERNATE;FRIEND_OF_CROWS</td>\n",
       "      <td>CARCINIZATION;UNHOLEY</td>\n",
       "      <td>SINKING_SHIP</td>\n",
       "      <td>81</td>\n",
       "      <td>38c053a8-fd06-4df3-ac74-55dbcf84ea38</td>\n",
       "      <td>101</td>\n",
       "    </tr>\n",
       "    <tr>\n",
       "      <th>7866</th>\n",
       "      <td>Hit3</td>\n",
       "      <td>0.284673</td>\n",
       "      <td>0.260650</td>\n",
       "      <td>0.024023</td>\n",
       "      <td>1.330912</td>\n",
       "      <td>0.354595</td>\n",
       "      <td>0.639176</td>\n",
       "      <td>0.007704</td>\n",
       "      <td>1.0</td>\n",
       "      <td>1.0</td>\n",
       "      <td>...</td>\n",
       "      <td>Adalberto Tosser</td>\n",
       "      <td>12b78c15-bea6-4826-b031-694a58d660b1</td>\n",
       "      <td>82</td>\n",
       "      <td>SPICY</td>\n",
       "      <td>WILD;CREDIT_TO_THE_TEAM</td>\n",
       "      <td>NaN</td>\n",
       "      <td>CARCINIZATION;UNHOLEY</td>\n",
       "      <td>46</td>\n",
       "      <td>12b78c15-bea6-4826-b031-694a58d660b1</td>\n",
       "      <td>82</td>\n",
       "    </tr>\n",
       "    <tr>\n",
       "      <th>...</th>\n",
       "      <td>...</td>\n",
       "      <td>...</td>\n",
       "      <td>...</td>\n",
       "      <td>...</td>\n",
       "      <td>...</td>\n",
       "      <td>...</td>\n",
       "      <td>...</td>\n",
       "      <td>...</td>\n",
       "      <td>...</td>\n",
       "      <td>...</td>\n",
       "      <td>...</td>\n",
       "      <td>...</td>\n",
       "      <td>...</td>\n",
       "      <td>...</td>\n",
       "      <td>...</td>\n",
       "      <td>...</td>\n",
       "      <td>...</td>\n",
       "      <td>...</td>\n",
       "      <td>...</td>\n",
       "      <td>...</td>\n",
       "      <td>...</td>\n",
       "    </tr>\n",
       "    <tr>\n",
       "      <th>8080</th>\n",
       "      <td>Hit1</td>\n",
       "      <td>0.057437</td>\n",
       "      <td>0.077564</td>\n",
       "      <td>-0.020127</td>\n",
       "      <td>0.538972</td>\n",
       "      <td>1.073320</td>\n",
       "      <td>-0.708034</td>\n",
       "      <td>0.718935</td>\n",
       "      <td>1.0</td>\n",
       "      <td>1.0</td>\n",
       "      <td>...</td>\n",
       "      <td>Caleb Alvarado</td>\n",
       "      <td>92ef4c0e-0ede-46d2-9f75-e3789e1d99a7</td>\n",
       "      <td>171</td>\n",
       "      <td>NaN</td>\n",
       "      <td>FRIEND_OF_CROWS</td>\n",
       "      <td>SUN_KISSED;SUN2_PAYOUTS</td>\n",
       "      <td>NaN</td>\n",
       "      <td>47</td>\n",
       "      <td>92ef4c0e-0ede-46d2-9f75-e3789e1d99a7</td>\n",
       "      <td>171</td>\n",
       "    </tr>\n",
       "    <tr>\n",
       "      <th>7060</th>\n",
       "      <td>Hit1</td>\n",
       "      <td>0.047330</td>\n",
       "      <td>0.068214</td>\n",
       "      <td>-0.020884</td>\n",
       "      <td>0.401784</td>\n",
       "      <td>0.790434</td>\n",
       "      <td>-0.690521</td>\n",
       "      <td>0.798166</td>\n",
       "      <td>1.0</td>\n",
       "      <td>1.0</td>\n",
       "      <td>...</td>\n",
       "      <td>King Roland</td>\n",
       "      <td>4c1e39b7-62af-4838-871e-af868e4e1a48</td>\n",
       "      <td>245</td>\n",
       "      <td>NaN</td>\n",
       "      <td>NaN</td>\n",
       "      <td>LIFE_OF_PARTY;ELECTRIC</td>\n",
       "      <td>LOVE</td>\n",
       "      <td>40</td>\n",
       "      <td>4c1e39b7-62af-4838-871e-af868e4e1a48</td>\n",
       "      <td>245</td>\n",
       "    </tr>\n",
       "    <tr>\n",
       "      <th>11466</th>\n",
       "      <td>Hit1</td>\n",
       "      <td>0.070557</td>\n",
       "      <td>0.091805</td>\n",
       "      <td>-0.021248</td>\n",
       "      <td>0.457942</td>\n",
       "      <td>0.461857</td>\n",
       "      <td>-0.044605</td>\n",
       "      <td>-0.819986</td>\n",
       "      <td>1.0</td>\n",
       "      <td>1.0</td>\n",
       "      <td>...</td>\n",
       "      <td>Ankle Halifax</td>\n",
       "      <td>aedfedc2-9b55-4f59-b11a-01adb390352e</td>\n",
       "      <td>24</td>\n",
       "      <td>SIPHON</td>\n",
       "      <td>NaN</td>\n",
       "      <td>BASE_INSTINCTS</td>\n",
       "      <td>UNDERSEA;PARTY_TIME</td>\n",
       "      <td>94</td>\n",
       "      <td>aedfedc2-9b55-4f59-b11a-01adb390352e</td>\n",
       "      <td>24</td>\n",
       "    </tr>\n",
       "    <tr>\n",
       "      <th>9936</th>\n",
       "      <td>Hit1</td>\n",
       "      <td>0.129101</td>\n",
       "      <td>0.161259</td>\n",
       "      <td>-0.032158</td>\n",
       "      <td>0.940038</td>\n",
       "      <td>0.882252</td>\n",
       "      <td>0.522667</td>\n",
       "      <td>0.173489</td>\n",
       "      <td>1.0</td>\n",
       "      <td>1.0</td>\n",
       "      <td>...</td>\n",
       "      <td>Bright Zimmerman</td>\n",
       "      <td>42a824ba-bd7b-4b63-aeb5-a60173df136e</td>\n",
       "      <td>241</td>\n",
       "      <td>NaN</td>\n",
       "      <td>WANDERER</td>\n",
       "      <td>AFFINITY_FOR_CROWS</td>\n",
       "      <td>TRAVELING</td>\n",
       "      <td>83</td>\n",
       "      <td>42a824ba-bd7b-4b63-aeb5-a60173df136e</td>\n",
       "      <td>241</td>\n",
       "    </tr>\n",
       "    <tr>\n",
       "      <th>7275</th>\n",
       "      <td>Hit2</td>\n",
       "      <td>0.266932</td>\n",
       "      <td>0.299125</td>\n",
       "      <td>-0.032193</td>\n",
       "      <td>1.624040</td>\n",
       "      <td>0.988861</td>\n",
       "      <td>0.672165</td>\n",
       "      <td>0.198926</td>\n",
       "      <td>1.0</td>\n",
       "      <td>1.0</td>\n",
       "      <td>...</td>\n",
       "      <td>Geraldine Frost</td>\n",
       "      <td>a15959df-069c-401a-a776-a60cedc4d54a</td>\n",
       "      <td>80</td>\n",
       "      <td>SCATTERED</td>\n",
       "      <td>NaN</td>\n",
       "      <td>SUN_KISSED;SUN2_PAYOUTS</td>\n",
       "      <td>UNDERSEA</td>\n",
       "      <td>42</td>\n",
       "      <td>a15959df-069c-401a-a776-a60cedc4d54a</td>\n",
       "      <td>80</td>\n",
       "    </tr>\n",
       "  </tbody>\n",
       "</table>\n",
       "<p>69 rows × 25 columns</p>\n",
       "</div>"
      ],
      "text/plain": [
       "      event_type      roll  threshold    offset  gf_vibes  op_vibes  \\\n",
       "10062       Hit3  0.110731   0.082968  0.027763  0.486811  0.837407   \n",
       "9404        Hit3  0.297254   0.271680  0.025574  1.386619  0.551053   \n",
       "9810        Hit3  0.203986   0.178761  0.025225  1.063891  1.032050   \n",
       "9589        Hit3  0.175418   0.150593  0.024824  0.759421  0.568660   \n",
       "7866        Hit3  0.284673   0.260650  0.024023  1.330912  0.354595   \n",
       "...          ...       ...        ...       ...       ...       ...   \n",
       "8080        Hit1  0.057437   0.077564 -0.020127  0.538972  1.073320   \n",
       "7060        Hit1  0.047330   0.068214 -0.020884  0.401784  0.790434   \n",
       "11466       Hit1  0.070557   0.091805 -0.021248  0.457942  0.461857   \n",
       "9936        Hit1  0.129101   0.161259 -0.032158  0.940038  0.882252   \n",
       "7275        Hit2  0.266932   0.299125 -0.032193  1.624040  0.988861   \n",
       "\n",
       "       batter_vibes  pitcher_vibes  batter_mul  pitcher_mul  ...  \\\n",
       "10062      0.267787      -0.184211         1.0          1.0  ...   \n",
       "9404      -0.128620      -0.023166         1.0          1.0  ...   \n",
       "9810       0.378893      -0.073928         1.0          1.0  ...   \n",
       "9589       0.289188      -0.339857         1.0          1.0  ...   \n",
       "7866       0.639176       0.007704         1.0          1.0  ...   \n",
       "...             ...            ...         ...          ...  ...   \n",
       "8080      -0.708034       0.718935         1.0          1.0  ...   \n",
       "7060      -0.690521       0.798166         1.0          1.0  ...   \n",
       "11466     -0.044605      -0.819986         1.0          1.0  ...   \n",
       "9936       0.522667       0.173489         1.0          1.0  ...   \n",
       "7275       0.672165       0.198926         1.0          1.0  ...   \n",
       "\n",
       "             pitcher_name                               game_id play_count  \\\n",
       "10062    Chambers Simmons  a4f1b9c9-241e-4ff0-a27f-1ccb4a497e97        208   \n",
       "9404   Bontgomery Mullock  ec008c57-c374-45b9-a0ca-c4677a86e076         57   \n",
       "9810        Snyder Briggs  6d12517b-04e7-4344-a214-4bd642f234d5        270   \n",
       "9589       Stevenson Heat  38c053a8-fd06-4df3-ac74-55dbcf84ea38        101   \n",
       "7866     Adalberto Tosser  12b78c15-bea6-4826-b031-694a58d660b1         82   \n",
       "...                   ...                                   ...        ...   \n",
       "8080       Caleb Alvarado  92ef4c0e-0ede-46d2-9f75-e3789e1d99a7        171   \n",
       "7060          King Roland  4c1e39b7-62af-4838-871e-af868e4e1a48        245   \n",
       "11466       Ankle Halifax  aedfedc2-9b55-4f59-b11a-01adb390352e         24   \n",
       "9936     Bright Zimmerman  42a824ba-bd7b-4b63-aeb5-a60173df136e        241   \n",
       "7275      Geraldine Frost  a15959df-069c-401a-a776-a60cedc4d54a         80   \n",
       "\n",
       "                                        batter_mods  \\\n",
       "10062                                        SIPHON   \n",
       "9404   SIPHON;FIRE_EATER;FLINCH;DOUBLE_PAYOUTS;EGO2   \n",
       "9810                                            NaN   \n",
       "9589                                      ALTERNATE   \n",
       "7866                                          SPICY   \n",
       "...                                             ...   \n",
       "8080                                            NaN   \n",
       "7060                                            NaN   \n",
       "11466                                        SIPHON   \n",
       "9936                                            NaN   \n",
       "7275                                      SCATTERED   \n",
       "\n",
       "                    pitcher_mods        batting_team_mods  \\\n",
       "10062                        NaN           BASE_INSTINCTS   \n",
       "9404        FRIEND_OF_CROWS;WILD    CARCINIZATION;UNHOLEY   \n",
       "9810              ALTERNATE;WILD       AFFINITY_FOR_CROWS   \n",
       "9589   ALTERNATE;FRIEND_OF_CROWS    CARCINIZATION;UNHOLEY   \n",
       "7866     WILD;CREDIT_TO_THE_TEAM                      NaN   \n",
       "...                          ...                      ...   \n",
       "8080             FRIEND_OF_CROWS  SUN_KISSED;SUN2_PAYOUTS   \n",
       "7060                         NaN   LIFE_OF_PARTY;ELECTRIC   \n",
       "11466                        NaN           BASE_INSTINCTS   \n",
       "9936                    WANDERER       AFFINITY_FOR_CROWS   \n",
       "7275                         NaN  SUN_KISSED;SUN2_PAYOUTS   \n",
       "\n",
       "          pitching_team_mods  day                               game_id  \\\n",
       "10062                 GROWTH   84  a4f1b9c9-241e-4ff0-a27f-1ccb4a497e97   \n",
       "9404                    LOVE   80  ec008c57-c374-45b9-a0ca-c4677a86e076   \n",
       "9810               TRAVELING   82  6d12517b-04e7-4344-a214-4bd642f234d5   \n",
       "9589            SINKING_SHIP   81  38c053a8-fd06-4df3-ac74-55dbcf84ea38   \n",
       "7866   CARCINIZATION;UNHOLEY   46  12b78c15-bea6-4826-b031-694a58d660b1   \n",
       "...                      ...  ...                                   ...   \n",
       "8080                     NaN   47  92ef4c0e-0ede-46d2-9f75-e3789e1d99a7   \n",
       "7060                    LOVE   40  4c1e39b7-62af-4838-871e-af868e4e1a48   \n",
       "11466    UNDERSEA;PARTY_TIME   94  aedfedc2-9b55-4f59-b11a-01adb390352e   \n",
       "9936               TRAVELING   83  42a824ba-bd7b-4b63-aeb5-a60173df136e   \n",
       "7275                UNDERSEA   42  a15959df-069c-401a-a776-a60cedc4d54a   \n",
       "\n",
       "      play_count  \n",
       "10062        208  \n",
       "9404          57  \n",
       "9810         270  \n",
       "9589         101  \n",
       "7866          82  \n",
       "...          ...  \n",
       "8080         171  \n",
       "7060         245  \n",
       "11466         24  \n",
       "9936         241  \n",
       "7275          80  \n",
       "\n",
       "[69 rows x 25 columns]"
      ]
     },
     "execution_count": 10,
     "metadata": {},
     "output_type": "execute_result"
    }
   ],
   "source": [
    "col_list = [\n",
    "    \"event_type\",\n",
    "    \"roll\",\n",
    "    \"threshold\",\n",
    "    \"offset\",\n",
    "    \"gf_vibes\",\n",
    "    \"op_vibes\",\n",
    "    \"batter_vibes\",\n",
    "    \"pitcher_vibes\",\n",
    "    \"batter_mul\",\n",
    "    \"pitcher_mul\",\n",
    "    \"ballpark_viscosity\",\n",
    "    \"ballpark_ominousness\",\n",
    "    \"ballpark_forwardness\",\n",
    "    \"defense_avg_chasiness\",\n",
    "    \"batter_name\",\n",
    "    \"pitcher_name\",\n",
    "    \"game_id\",\n",
    "    \"play_count\",\n",
    "    \"batter_mods\",\n",
    "    \"pitcher_mods\",\n",
    "    \"batting_team_mods\",\n",
    "    \"pitching_team_mods\",\n",
    "    \"day\",\n",
    "    \"game_id\",\n",
    "    \"play_count\",\n",
    "]\n",
    "# outliers[(outliers['threshold'] > 0.1) &\n",
    "#          (outliers[\"batter_mods\"].astype(str).str.contains(\"ON_FIRE\"))].sort_values('offset', ascending=True).loc[:, col_list][0:10]\n",
    "outliers.sort_values(\"offset\", ascending=False).loc[:, col_list]"
   ]
  },
  {
   "cell_type": "code",
   "execution_count": 11,
   "metadata": {
    "collapsed": false,
    "jupyter": {
     "outputs_hidden": false
    },
    "pycharm": {
     "name": "#%%\n"
    }
   },
   "outputs": [
    {
     "data": {
      "text/plain": [
       "0.3257678313075585"
      ]
     },
     "execution_count": 11,
     "metadata": {},
     "output_type": "execute_result"
    }
   ],
   "source": [
    "dfc[dfc[\"event_type\"] == \"Hit3\"][\"roll\"].max()"
   ]
  },
  {
   "cell_type": "code",
   "execution_count": null,
   "metadata": {
    "collapsed": false,
    "jupyter": {
     "outputs_hidden": false
    },
    "pycharm": {
     "name": "#%%\n"
    }
   },
   "outputs": [],
   "source": []
  },
  {
   "cell_type": "code",
   "execution_count": null,
   "metadata": {
    "collapsed": false,
    "jupyter": {
     "outputs_hidden": false
    },
    "pycharm": {
     "name": "#%%\n"
    }
   },
   "outputs": [],
   "source": []
  },
  {
   "cell_type": "code",
   "execution_count": null,
   "metadata": {
    "collapsed": false,
    "jupyter": {
     "outputs_hidden": false
    },
    "pycharm": {
     "name": "#%%\n"
    }
   },
   "outputs": [],
   "source": []
  },
  {
   "cell_type": "code",
   "execution_count": null,
   "metadata": {
    "collapsed": false,
    "jupyter": {
     "outputs_hidden": false
    },
    "pycharm": {
     "name": "#%%\n"
    }
   },
   "outputs": [],
   "source": []
  },
  {
   "cell_type": "code",
   "execution_count": null,
   "metadata": {
    "collapsed": false,
    "jupyter": {
     "outputs_hidden": false
    },
    "pycharm": {
     "name": "#%%\n"
    }
   },
   "outputs": [],
   "source": []
  }
 ],
 "metadata": {
  "kernelspec": {
   "display_name": "Python 3 (ipykernel)",
   "language": "python",
   "name": "python3"
  },
  "language_info": {
   "codemirror_mode": {
    "name": "ipython",
    "version": 3
   },
   "file_extension": ".py",
   "mimetype": "text/x-python",
   "name": "python",
   "nbconvert_exporter": "python",
   "pygments_lexer": "ipython3",
   "version": "3.9.12"
  }
 },
 "nbformat": 4,
 "nbformat_minor": 4
}
