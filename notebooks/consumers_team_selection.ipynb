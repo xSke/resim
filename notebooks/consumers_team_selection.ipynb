{
 "cells": [
  {
   "cell_type": "code",
   "execution_count": 1,
   "id": "fd4c73b7",
   "metadata": {},
   "outputs": [],
   "source": [
    "import glob\n",
    "\n",
    "import pandas as pd\n",
    "import matplotlib.pyplot as plt\n",
    "import numpy as np\n",
    "from matplotlib.markers import CARETLEFTBASE, CARETRIGHTBASE"
   ]
  },
  {
   "cell_type": "code",
   "execution_count": 2,
   "id": "e7bbddfd",
   "metadata": {},
   "outputs": [
    {
     "name": "stderr",
     "output_type": "stream",
     "text": [
      "C:\\Users\\rcorc\\AppData\\Local\\Temp\\ipykernel_7636\\4098034931.py:3: DtypeWarning: Columns (131) have mixed types. Specify dtype option on import or set low_memory=False.\n",
      "  df = pd.concat((pd.read_csv(f, dtype={\"stadium_id\": \"string\"}) for f in all_files), ignore_index=True)\n",
      "C:\\Users\\rcorc\\AppData\\Local\\Temp\\ipykernel_7636\\4098034931.py:3: DtypeWarning: Columns (131) have mixed types. Specify dtype option on import or set low_memory=False.\n",
      "  df = pd.concat((pd.read_csv(f, dtype={\"stadium_id\": \"string\"}) for f in all_files), ignore_index=True)\n"
     ]
    }
   ],
   "source": [
    "all_files = glob.glob(\"../roll_data/*-consumers.csv\")\n",
    "\n",
    "df = pd.concat((pd.read_csv(f, dtype={\"stadium_id\": \"string\"}) for f in all_files), ignore_index=True)\n",
    "\n",
    "# select season (zero indexed)\n",
    "# seasons = [11,12,13,14]\n",
    "# season = 13\n",
    "# df = df[df['season'] == season]\n",
    "df = df[df['season'] == 14]"
   ]
  },
  {
   "cell_type": "code",
   "execution_count": 3,
   "id": "688c352e",
   "metadata": {},
   "outputs": [
    {
     "name": "stdout",
     "output_type": "stream",
     "text": [
      "['event_type', 'roll', 'passed', 'batter_buoyancy', 'batter_divinity', 'batter_martyrdom', 'batter_moxie', 'batter_musclitude', 'batter_patheticism', 'batter_thwackability', 'batter_tragicness', 'batter_coldness', 'batter_overpowerment', 'batter_ruthlessness', 'batter_shakespearianism', 'batter_suppression', 'batter_unthwackability', 'batter_base_thirst', 'batter_continuation', 'batter_ground_friction', 'batter_indulgence', 'batter_laserlikeness', 'batter_anticapitalism', 'batter_chasiness', 'batter_omniscience', 'batter_tenaciousness', 'batter_watchfulness', 'batter_pressurization', 'batter_cinnamon', 'batter_multiplier', 'runner_on_first_base_thirst', 'runner_on_first_continuation', 'runner_on_first_ground_friction', 'runner_on_first_indulgence', 'runner_on_first_laserlikeness', 'runner_on_first_multiplier', 'runner_on_second_base_thirst', 'runner_on_second_continuation', 'runner_on_second_ground_friction', 'runner_on_second_indulgence', 'runner_on_second_laserlikeness', 'runner_on_second_multiplier', 'runner_on_third_base_thirst', 'runner_on_third_continuation', 'runner_on_third_ground_friction', 'runner_on_third_indulgence', 'runner_on_third_laserlikeness', 'runner_on_third_multiplier', 'pitcher_buoyancy', 'pitcher_divinity', 'pitcher_martyrdom', 'pitcher_moxie', 'pitcher_musclitude', 'pitcher_patheticism', 'pitcher_thwackability', 'pitcher_tragicness', 'pitcher_ruthlessness', 'pitcher_overpowerment', 'pitcher_unthwackability', 'pitcher_shakespearianism', 'pitcher_suppression', 'pitcher_coldness', 'pitcher_base_thirst', 'pitcher_continuation', 'pitcher_ground_friction', 'pitcher_indulgence', 'pitcher_laserlikeness', 'pitcher_anticapitalism', 'pitcher_chasiness', 'pitcher_omniscience', 'pitcher_tenaciousness', 'pitcher_watchfulness', 'pitcher_pressurization', 'pitcher_cinnamon', 'pitcher_multiplier', 'fielder_anticapitalism', 'fielder_chasiness', 'fielder_omniscience', 'fielder_tenaciousness', 'fielder_watchfulness', 'fielder_multiplier', 'ballpark_grandiosity', 'ballpark_fortification', 'ballpark_obtuseness', 'ballpark_ominousness', 'ballpark_inconvenience', 'ballpark_viscosity', 'ballpark_forwardness', 'ballpark_mysticism', 'ballpark_elongation', 'ballpark_filthiness', 'what1', 'what2', 'batting_team_hype', 'pitching_team_hype', 'batter_name', 'pitcher_name', 'fielder_name', 'runner_on_first_name', 'runner_on_second_name', 'runner_on_third_name', 'batter_vibes', 'pitcher_vibes', 'fielder_vibes', 'runner_on_first_vibes', 'runner_on_second_vibes', 'runner_on_third_vibes', 'batter_mods', 'batting_team_mods', 'pitcher_mods', 'pitching_team_mods', 'fielder_mods', 'runner_on_first_mods', 'runner_on_second_mods', 'runner_on_third_mods', 'game_id', 'stadium_id', 'play_count', 'weather', 'ball_count', 'strike_count', 'out_count', 'season', 'day', 'top_of_inning', 'home_score', 'away_score', 'inning', 'batting_team_roster_size', 'pitching_team_roster_size', 'baserunner_count', 'is_strike', 'strike_roll', 'strike_threshold', 'fielder_roll', 'batter_consecutive_hits', 'team_level']\n"
     ]
    }
   ],
   "source": [
    "print(df.columns.tolist())"
   ]
  },
  {
   "cell_type": "code",
   "execution_count": 4,
   "id": "e3b4c455",
   "metadata": {},
   "outputs": [
    {
     "name": "stdout",
     "output_type": "stream",
     "text": [
      "      event_type      roll passed  batter_buoyancy  batter_divinity  \\\n",
      "21155     Attack  0.000102   True         1.036379         0.222922   \n",
      "21235     Attack  0.001612   True         1.000719         0.983065   \n",
      "21356     Attack  0.002335   True         0.700063         0.382737   \n",
      "21663     Attack  0.003975   True         0.536775         0.276554   \n",
      "21722     Attack  0.004350   True         0.175481         0.998298   \n",
      "...          ...       ...    ...              ...              ...   \n",
      "90061     Attack  0.001441   True         0.791459         1.036589   \n",
      "90095     Attack  0.001476   True         1.006218         0.873335   \n",
      "90163     Attack  0.001329   True         0.332626         0.829225   \n",
      "90282     Attack  0.000087   True         0.484179         0.483753   \n",
      "90590     Attack  0.000779   True         0.445443         1.074277   \n",
      "\n",
      "       batter_martyrdom  batter_moxie  batter_musclitude  batter_patheticism  \\\n",
      "21155          1.153183      1.028871           0.834127            0.751212   \n",
      "21235          0.212948      0.864867           0.308251            0.310924   \n",
      "21356          0.566613      0.259582           0.615942            0.799791   \n",
      "21663          0.044232      0.451527           0.728407            0.124435   \n",
      "21722          0.530885      0.757954           0.965107            0.321624   \n",
      "...                 ...           ...                ...                 ...   \n",
      "90061          0.991069      0.770553           1.023320            0.001000   \n",
      "90095          1.066485      0.804610           0.797885            0.387646   \n",
      "90163          0.506761      0.845535           0.118151            0.380293   \n",
      "90282          0.460456      0.912536           0.986928            0.001000   \n",
      "90590          0.089839      0.406788           0.563446            0.133392   \n",
      "\n",
      "       batter_thwackability  ...  inning  batting_team_roster_size  \\\n",
      "21155              0.711844  ...       2                        18   \n",
      "21235              0.715185  ...       5                        18   \n",
      "21356              0.899821  ...       0                        14   \n",
      "21663              0.496474  ...       2                        18   \n",
      "21722              0.598814  ...       5                        14   \n",
      "...                     ...  ...     ...                       ...   \n",
      "90061              0.996668  ...       8                        15   \n",
      "90095              0.921890  ...       7                        13   \n",
      "90163              0.733085  ...       7                        10   \n",
      "90282              0.570982  ...       6                        14   \n",
      "90590              0.950732  ...       8                        14   \n",
      "\n",
      "       pitching_team_roster_size  baserunner_count  is_strike  strike_roll  \\\n",
      "21155                         16                 0      False     0.806182   \n",
      "21235                         16                 0       True     0.314029   \n",
      "21356                         18                 3       True     0.169304   \n",
      "21663                         14                 0      False     0.732182   \n",
      "21722                         18                 2      False     0.652226   \n",
      "...                          ...               ...        ...          ...   \n",
      "90061                         13                 1       True     0.539203   \n",
      "90095                         12                 0      False     0.988073   \n",
      "90163                         18                 1       True     0.371861   \n",
      "90282                         15                 0      False     0.962289   \n",
      "90590                         13                 0      False     0.890670   \n",
      "\n",
      "       strike_threshold  fielder_roll  batter_consecutive_hits  team_level  \n",
      "21155          0.471387           NaN                        0        10.0  \n",
      "21235          0.671505           NaN                        3        10.0  \n",
      "21356          0.790613           NaN                        0        10.0  \n",
      "21663          0.699227           NaN                        0         9.0  \n",
      "21722          0.532929           NaN                        0         9.0  \n",
      "...                 ...           ...                      ...         ...  \n",
      "90061          0.574085           NaN                        1         6.0  \n",
      "90095          0.446187           NaN                        0         7.0  \n",
      "90163          0.538063           NaN                        0        11.0  \n",
      "90282          0.542119           NaN                        1         5.0  \n",
      "90590          0.409597           NaN                        0         6.0  \n",
      "\n",
      "[160 rows x 137 columns]\n",
      "        event_type      roll passed  batter_buoyancy  batter_divinity  \\\n",
      "27321  Lotus Mango  0.014747   True            0.582         0.564604   \n",
      "\n",
      "       batter_martyrdom  batter_moxie  batter_musclitude  batter_patheticism  \\\n",
      "27321          0.329506      0.135249           0.577155            0.119041   \n",
      "\n",
      "       batter_thwackability  ...  inning  batting_team_roster_size  \\\n",
      "27321               0.57022  ...       2                        18   \n",
      "\n",
      "       pitching_team_roster_size  baserunner_count  is_strike  strike_roll  \\\n",
      "27321                         15                 0      False     0.767223   \n",
      "\n",
      "       strike_threshold  fielder_roll  batter_consecutive_hits  team_level  \n",
      "27321          0.729001           NaN                        1         NaN  \n",
      "\n",
      "[1 rows x 137 columns]\n",
      "      event_type      roll passed  batter_buoyancy  batter_divinity  \\\n",
      "21079       Miss  0.019469  False         0.608316         1.082960   \n",
      "21267       Miss  0.018556  False         1.037517         1.103999   \n",
      "21308       Miss  0.011742  False         0.537661         1.045748   \n",
      "21417       Miss  0.017214  False         0.175481         0.998298   \n",
      "21428       Miss  0.017472  False         1.036379         0.222922   \n",
      "...          ...       ...    ...              ...              ...   \n",
      "90704       Miss  0.008236  False         0.767539         0.228893   \n",
      "90764       Miss  0.002074  False         1.242734         1.137527   \n",
      "90791       Miss  0.005505  False         0.613414         0.760942   \n",
      "90862       Miss  0.010142  False         0.196448         0.606278   \n",
      "90901       Miss  0.017018  False         1.459612         0.605426   \n",
      "\n",
      "       batter_martyrdom  batter_moxie  batter_musclitude  batter_patheticism  \\\n",
      "21079          0.936597      0.481878           0.887398            0.875035   \n",
      "21267          0.745632      1.205940           0.699190            0.001000   \n",
      "21308          0.306265      0.747397           0.544453            0.121153   \n",
      "21417          0.530885      0.757954           0.965107            0.321624   \n",
      "21428          1.153183      1.028871           0.834127            0.751212   \n",
      "...                 ...           ...                ...                 ...   \n",
      "90704          0.001000      0.773756           0.670896            0.999000   \n",
      "90764          0.497416      0.602516           0.640853            0.001000   \n",
      "90791          0.704265      0.439081           0.817710            0.184927   \n",
      "90862          0.937363      0.885297           0.929424            0.001000   \n",
      "90901          0.809489      0.813133           0.775583            0.409998   \n",
      "\n",
      "       batter_thwackability  ...  inning  batting_team_roster_size  \\\n",
      "21079              0.856435  ...       7                        16   \n",
      "21267              0.492141  ...       7                        18   \n",
      "21308              0.851591  ...       9                        18   \n",
      "21417              0.598814  ...       3                        14   \n",
      "21428              0.711844  ...       3                        18   \n",
      "...                     ...  ...     ...                       ...   \n",
      "90704              0.743134  ...       8                        14   \n",
      "90764              0.470297  ...       8                        15   \n",
      "90791              0.464443  ...       8                        14   \n",
      "90862              0.794891  ...       8                        14   \n",
      "90901              1.434186  ...       8                        13   \n",
      "\n",
      "       pitching_team_roster_size  baserunner_count  is_strike  strike_roll  \\\n",
      "21079                         18                 2      False     0.631449   \n",
      "21267                         16                 0       True     0.255572   \n",
      "21308                         16                 1       True     0.446773   \n",
      "21417                         18                 0      False     0.981076   \n",
      "21428                         14                 0       True     0.042144   \n",
      "...                          ...               ...        ...          ...   \n",
      "90704                         13                 0      False     0.783965   \n",
      "90764                         14                 0      False     0.634785   \n",
      "90791                         13                 1       True     0.333376   \n",
      "90862                         15                 1      False     0.679684   \n",
      "90901                         14                 0       True     0.162661   \n",
      "\n",
      "       strike_threshold  fielder_roll  batter_consecutive_hits  team_level  \n",
      "21079          0.600950           NaN                        0         9.0  \n",
      "21267          0.414107           NaN                        0        10.0  \n",
      "21308          0.547067           NaN                        0        10.0  \n",
      "21417          0.542722           NaN                        0        10.0  \n",
      "21428          0.546872           NaN                        0        10.0  \n",
      "...                 ...           ...                      ...         ...  \n",
      "90704          0.509547           NaN                        0         6.0  \n",
      "90764          0.432585           NaN                        0         6.0  \n",
      "90791          0.665711           NaN                        0         6.0  \n",
      "90862          0.664106           NaN                        0         5.0  \n",
      "90901          0.665407           NaN                        2         6.0  \n",
      "\n",
      "[1256 rows x 137 columns]\n"
     ]
    }
   ],
   "source": [
    "df = df[df[\"roll\"] < 0.02]\n",
    "\n",
    "df_attack = df[df[\"event_type\"].astype(str).str.contains(\"Attack\")]\n",
    "df_noattack = df[df[\"event_type\"].astype(str).str.contains(\"Miss\")]\n",
    "df_target = df[~df[\"event_type\"].astype(str).str.contains(\"Attack|Miss\")]\n",
    "\n",
    "print(df_attack)\n",
    "print(df_target)\n",
    "print(df_noattack)"
   ]
  },
  {
   "cell_type": "code",
   "execution_count": 5,
   "id": "3f61f332",
   "metadata": {},
   "outputs": [
    {
     "data": {
      "text/plain": [
       "<matplotlib.legend.Legend at 0x231171d6b60>"
      ]
     },
     "execution_count": 5,
     "metadata": {},
     "output_type": "execute_result"
    },
    {
     "data": {
      "image/png": "[encoded data removed]",
      "text/plain": [
       "<Figure size 432x432 with 1 Axes>"
      ]
     },
     "metadata": {
      "needs_background": "light"
     },
     "output_type": "display_data"
    }
   ],
   "source": [
    "y_val = \"roll\"\n",
    "x_val = \"team_level\"\n",
    "df_noattack = df_noattack.copy()\n",
    "df_attack = df_attack.copy()\n",
    "\n",
    "fig, ax = plt.subplots(1, figsize=(6, 6))\n",
    "\n",
    "ax.scatter(\n",
    "     df_noattack[x_val],\n",
    "     df_noattack[y_val],\n",
    "     color=\"blue\",\n",
    "     label=\"NoAttack\",\n",
    "     marker=CARETRIGHTBASE,\n",
    " )\n",
    "ax.scatter(\n",
    "     df_attack[x_val],\n",
    "     df_attack[y_val],\n",
    "     color=\"red\",\n",
    "     label=\"Attack\",\n",
    "     marker=CARETLEFTBASE,\n",
    " )\n",
    "ax.set_xlabel(x_val)\n",
    "ax.set_ylabel(y_val)\n",
    "ax.set_title(\"Consumer Attacks\")\n",
    "\n",
    "if x_val == \"threshold\":\n",
    "    ax.plot(ax.get_xlim(), ax.get_xlim())\n",
    "\n",
    "ax.legend()"
   ]
  },
  {
   "cell_type": "code",
   "execution_count": null,
   "id": "2eb97140",
   "metadata": {},
   "outputs": [],
   "source": [
    "from sklearn.preprocessing import StandardScaler\n",
    "from sklearn.metrics import confusion_matrix\n",
    "from sklearn.metrics import classification_report\n",
    "from sklearn import svm, linear_model\n",
    "\n",
    "y = df['passed'].astype(int)\n",
    "\n",
    "x = df[['roll']]\n",
    "\n",
    "sc = StandardScaler()\n",
    "\n",
    "trainedsvm = svm.LinearSVC(dual=False, C=100000, max_iter=10000, tol=1e-10).fit(x, y)\n",
    "predictionsvm = trainedsvm.predict(x)\n",
    "confusion_matrix(y,predictionsvm)"
   ]
  },
  {
   "cell_type": "code",
   "execution_count": null,
   "id": "4ba44df9",
   "metadata": {},
   "outputs": [],
   "source": []
  },
  {
   "cell_type": "code",
   "execution_count": null,
   "id": "54d0b148",
   "metadata": {},
   "outputs": [],
   "source": []
  }
 ],
 "metadata": {
  "kernelspec": {
   "display_name": "Python 3 (ipykernel)",
   "language": "python",
   "name": "python3"
  },
  "language_info": {
   "codemirror_mode": {
    "name": "ipython",
    "version": 3
   },
   "file_extension": ".py",
   "mimetype": "text/x-python",
   "name": "python",
   "nbconvert_exporter": "python",
   "pygments_lexer": "ipython3",
   "version": "3.10.5"
  }
 },
 "nbformat": 4,
 "nbformat_minor": 5
}
